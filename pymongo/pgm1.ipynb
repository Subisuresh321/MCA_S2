{
 "cells": [
  {
   "cell_type": "code",
   "execution_count": 2,
   "id": "8e187b52",
   "metadata": {},
   "outputs": [],
   "source": [
    "import pymongo\n",
    "conn = pymongo.MongoClient(\"mongodb://localhost:27017/\") #brackets()\n",
    "db=conn['mydatabase']\n",
    "col=db['student']\n"
   ]
  },
  {
   "cell_type": "code",
   "execution_count": 2,
   "id": "bf75c673",
   "metadata": {},
   "outputs": [
    {
     "data": {
      "text/plain": [
       "InsertManyResult([1, 2, 3], acknowledged=True)"
      ]
     },
     "execution_count": 2,
     "metadata": {},
     "output_type": "execute_result"
    }
   ],
   "source": [
    "value = [\n",
    "    {\"_id\":1,\"Name\":\"Subi\",\"Age\":\"21\",\"Married\":True},\n",
    "    {\"_id\":2,\"Name\":\"Sam\",\"Age\":\"22\",\"Married\":False},\n",
    "    {\"_id\":3,\"Name\":\"Shruthi\",\"Age\":\"25\"}\n",
    "]\n",
    "col.insert_many(value)"
   ]
  },
  {
   "cell_type": "code",
   "execution_count": 7,
   "id": "74b43f63",
   "metadata": {},
   "outputs": [
    {
     "name": "stdout",
     "output_type": "stream",
     "text": [
      "{'_id': 1, 'Name': 'Subi', 'Age': '21', 'Married': True}\n",
      "{'_id': 2, 'Name': 'Sam', 'Age': '22', 'Married': False}\n",
      "{'_id': 3, 'Name': 'Shruthi', 'Age': '25'}\n"
     ]
    }
   ],
   "source": [
    "var=col.find({},{})\n",
    "for i in var:\n",
    "    print(i)"
   ]
  },
  {
   "cell_type": "code",
   "execution_count": 8,
   "id": "1886d855",
   "metadata": {},
   "outputs": [
    {
     "name": "stdout",
     "output_type": "stream",
     "text": [
      "{'Name': 'Subi', 'Age': '21', 'Married': True}\n",
      "{'Name': 'Sam', 'Age': '22', 'Married': False}\n",
      "{'Name': 'Shruthi', 'Age': '25'}\n"
     ]
    }
   ],
   "source": [
    "var=col.find({},{\"_id\":0})\n",
    "for i in var:\n",
    "    print(i)"
   ]
  },
  {
   "cell_type": "code",
   "execution_count": 13,
   "id": "8f316452",
   "metadata": {},
   "outputs": [
    {
     "name": "stdout",
     "output_type": "stream",
     "text": [
      "{'Name': 'Sam', 'Age': '22', 'Married': False}\n"
     ]
    }
   ],
   "source": [
    "var=col.find({\"Age\":\"22\"},{\"_id\":0})\n",
    "for i in var:\n",
    "    print(i)"
   ]
  },
  {
   "cell_type": "code",
   "execution_count": 16,
   "id": "efaff20b",
   "metadata": {},
   "outputs": [
    {
     "name": "stdout",
     "output_type": "stream",
     "text": [
      "{'_id': 1, 'Name': 'Subi', 'Age': 21, 'Married': True}\n",
      "{'_id': 2, 'Name': 'Sam', 'Age': 22, 'Married': False}\n",
      "{'_id': 3, 'Name': 'Shruthi', 'Age': 25}\n"
     ]
    }
   ],
   "source": [
    "cond={\"Age\":\"25\"}\n",
    "nv={\"$set\":{\"Age\":25}}\n",
    "col.update_many(cond,nv)\n",
    "var=col.find({},{})\n",
    "for i in var:\n",
    "    print(i)"
   ]
  },
  {
   "cell_type": "code",
   "execution_count": 17,
   "id": "3d058d1c",
   "metadata": {},
   "outputs": [
    {
     "name": "stdout",
     "output_type": "stream",
     "text": [
      "{'Name': 'Shruthi', 'Age': 25}\n"
     ]
    }
   ],
   "source": [
    "var=col.find({\"Age\":{\"$gt\":22}},{\"_id\":0})\n",
    "for i in var:\n",
    "    print(i)"
   ]
  },
  {
   "cell_type": "code",
   "execution_count": 18,
   "id": "e90d5819",
   "metadata": {},
   "outputs": [
    {
     "name": "stdout",
     "output_type": "stream",
     "text": [
      "{'Name': 'Sam', 'Age': 22, 'Married': False}\n",
      "{'Name': 'Shruthi', 'Age': 25}\n"
     ]
    }
   ],
   "source": [
    "var=col.find({\"Age\":{\"$gte\":22}},{\"_id\":0})\n",
    "for i in var:\n",
    "    print(i)"
   ]
  },
  {
   "cell_type": "code",
   "execution_count": 21,
   "id": "c91f0a42",
   "metadata": {},
   "outputs": [
    {
     "name": "stdout",
     "output_type": "stream",
     "text": [
      "{'_id': 1, 'Name': 'Subi', 'Age': 21, 'Married': True}\n",
      "{'_id': 2, 'Name': 'Sam', 'Age': 22, 'Married': False}\n",
      "{'_id': 3, 'Name': 'Shruthi', 'Age': 25, 'Married': False}\n"
     ]
    }
   ],
   "source": [
    "cond={\"Name\":\"Shruthi\"}\n",
    "nv={\"$set\":{\"Married\":False}}\n",
    "col.update_one(cond,nv)\n",
    "var=col.find({},{})\n",
    "for i in var:\n",
    "    print(i)"
   ]
  },
  {
   "cell_type": "code",
   "execution_count": 24,
   "id": "390f5311",
   "metadata": {},
   "outputs": [
    {
     "name": "stdout",
     "output_type": "stream",
     "text": [
      "{'_id': 1, 'Name': 'Subi', 'Age': 21, 'Married': True}\n"
     ]
    }
   ],
   "source": [
    "var=col.find({\"Age\":{\"$lt\":23}},{}).limit(1)\n",
    "for i in var:\n",
    "    print(i)"
   ]
  },
  {
   "cell_type": "code",
   "execution_count": 27,
   "id": "def026a6",
   "metadata": {},
   "outputs": [
    {
     "name": "stdout",
     "output_type": "stream",
     "text": [
      "{'Name': 'Shruthi', 'Age': 25, 'Married': False}\n",
      "{'Name': 'Sam', 'Age': 22, 'Married': False}\n",
      "{'Name': 'Subi', 'Age': 21, 'Married': True}\n"
     ]
    }
   ],
   "source": [
    "var=col.find({},{\"_id\":0}).sort({\"Age\":-1})\n",
    "for i in var:\n",
    "    print(i)"
   ]
  },
  {
   "cell_type": "code",
   "execution_count": 30,
   "id": "aa57606a",
   "metadata": {},
   "outputs": [
    {
     "name": "stdout",
     "output_type": "stream",
     "text": [
      "{'Name': 'Shruthi', 'Age': 25, 'Married': False}\n",
      "{'Name': 'Sam', 'Age': 22, 'Married': False}\n"
     ]
    }
   ],
   "source": [
    "var=col.find({\"Age\":{\"$gt\":21}},{\"_id\":0}).sort({\"Age\":-1})\n",
    "for i in var:\n",
    "    print(i)"
   ]
  },
  {
   "cell_type": "code",
   "execution_count": null,
   "id": "a67103b1",
   "metadata": {},
   "outputs": [
    {
     "name": "stdout",
     "output_type": "stream",
     "text": [
      "{'_id': 1, 'Name': 'Subi', 'Age': 21, 'Married': True}\n",
      "{'_id': 2, 'Name': 'Sam', 'Age': 22, 'Married': False}\n",
      "{'_id': 3, 'Name': 'Shruthi', 'Age': 25, 'Married': False}\n",
      "{'_id': ObjectId('68405b758cf6883c1cc122f5'), 'Name': {'firstname': 'Jakes', 'lastname': 'Bijoy'}, 'Age': 35, 'Married': False}\n",
      "{'_id': ObjectId('68405b758cf6883c1cc122f6'), 'Name': {'firstname': 'King', 'lastname': 'Cobra'}, 'Age': 30, 'Married': True}\n"
     ]
    }
   ],
   "source": [
    "value=[\n",
    "    {'Name':{'firstname':\"Jakes\",\"lastname\":\"Bijoy\"}, 'Age': 35, 'Married': False},\n",
    "    {'Name':{'firstname':\"King\",\"lastname\":\"Cobra\"}, 'Age': 30, 'Married': True}\n",
    "]\n",
    "col.insert_many(value)\n",
    "var=col.find({},{})\n",
    "for  i in var:\n",
    "    print(i)"
   ]
  },
  {
   "cell_type": "code",
   "execution_count": 34,
   "id": "83194aaa",
   "metadata": {},
   "outputs": [
    {
     "name": "stdout",
     "output_type": "stream",
     "text": [
      "{'Name': {'firstname': 'Jakes', 'lastname': 'Bijoy'}, 'Age': 35, 'Married': False}\n"
     ]
    }
   ],
   "source": [
    "var=col.find({\"Name.firstname\":'Jakes'},{\"_id\":0})\n",
    "for  i in var:\n",
    "    print(i)"
   ]
  },
  {
   "cell_type": "code",
   "execution_count": 47,
   "id": "b9e6333e",
   "metadata": {},
   "outputs": [
    {
     "name": "stdout",
     "output_type": "stream",
     "text": [
      "{'_id': 2, 'Name': 'Sam', 'Age': 22, 'Married': False}\n",
      "{'_id': ObjectId('68405b758cf6883c1cc122f5'), 'Name': {'firstname': 'Jakes', 'lastname': 'Bijoy'}, 'Age': 35, 'Married': False}\n"
     ]
    }
   ],
   "source": [
    "var=col.find({\"$or\":[{\"Name\":{\"$regex\":\"a\"}},{\"Name.firstname\":{\"$regex\":\"a\"}}]},{})\n",
    "for  i in var:\n",
    "    print(i)"
   ]
  },
  {
   "cell_type": "code",
   "execution_count": 48,
   "id": "29b843f1",
   "metadata": {},
   "outputs": [
    {
     "data": {
      "text/plain": [
       "DeleteResult({'n': 1, 'ok': 1.0}, acknowledged=True)"
      ]
     },
     "execution_count": 48,
     "metadata": {},
     "output_type": "execute_result"
    }
   ],
   "source": [
    "col.delete_one({\"_id\":3})"
   ]
  },
  {
   "cell_type": "code",
   "execution_count": 49,
   "id": "50b6d23b",
   "metadata": {},
   "outputs": [
    {
     "name": "stdout",
     "output_type": "stream",
     "text": [
      "{'_id': 1, 'Name': 'Subi', 'Age': 21, 'Married': True}\n",
      "{'_id': 2, 'Name': 'Sam', 'Age': 22, 'Married': False}\n",
      "{'_id': ObjectId('68405b758cf6883c1cc122f5'), 'Name': {'firstname': 'Jakes', 'lastname': 'Bijoy'}, 'Age': 35, 'Married': False}\n",
      "{'_id': ObjectId('68405b758cf6883c1cc122f6'), 'Name': {'firstname': 'King', 'lastname': 'Cobra'}, 'Age': 30, 'Married': True}\n"
     ]
    }
   ],
   "source": [
    "var=col.find({},{})\n",
    "for  i in var:\n",
    "    print(i)\n",
    "    "
   ]
  },
  {
   "cell_type": "code",
   "execution_count": 52,
   "id": "bf531d12",
   "metadata": {},
   "outputs": [
    {
     "data": {
      "text/plain": [
       "UpdateResult({'n': 1, 'nModified': 1, 'ok': 1.0, 'updatedExisting': True}, acknowledged=True)"
      ]
     },
     "execution_count": 52,
     "metadata": {},
     "output_type": "execute_result"
    }
   ],
   "source": [
    "cond={\"Name.firstname\":\"Jakes\"}\n",
    "nv={\"$set\":{\"Age\":33}}\n",
    "col.update_one(cond,nv)"
   ]
  },
  {
   "cell_type": "code",
   "execution_count": 55,
   "id": "8b499359",
   "metadata": {},
   "outputs": [
    {
     "name": "stdout",
     "output_type": "stream",
     "text": [
      "{'_id': 2, 'Name': 'Sam', 'Age': 22, 'Married': False}\n",
      "{'_id': ObjectId('68405b758cf6883c1cc122f5'), 'Name': {'firstname': 'Jakes', 'lastname': 'Bijoy'}, 'Age': 33, 'Married': False}\n",
      "{'_id': ObjectId('68405b758cf6883c1cc122f6'), 'Name': {'firstname': 'King', 'lastname': 'Cobra'}, 'Age': 30, 'Married': True}\n"
     ]
    }
   ],
   "source": [
    "var=col.find({\"$and\":[{\"Age\":{\"$gte\":22}},{\"Age\":{\"$lt\":35}}]},{})\n",
    "for i in var:\n",
    "    print(i)"
   ]
  },
  {
   "cell_type": "code",
   "execution_count": 66,
   "id": "9af5c270",
   "metadata": {},
   "outputs": [
    {
     "name": "stdout",
     "output_type": "stream",
     "text": [
      "{'_id': 1, 'Name': 'Subi', 'Age': 21}\n",
      "{'_id': 2, 'Name': 'Sam', 'Age': 22}\n",
      "{'_id': ObjectId('68405b758cf6883c1cc122f6'), 'Name': {'firstname': 'King', 'lastname': 'Cobra'}, 'Age': 30}\n"
     ]
    }
   ],
   "source": [
    "var=col.find({\"Age\":{\"$nin\":[33]}},{\"Name\":1,\"Age\":1})\n",
    "for i in var:\n",
    "    print(i)"
   ]
  },
  {
   "cell_type": "code",
   "execution_count": 69,
   "id": "50ffcb4f",
   "metadata": {},
   "outputs": [
    {
     "name": "stdout",
     "output_type": "stream",
     "text": [
      "{'_id': 2, 'Name': 'Sam', 'Age': 22, 'Married': False}\n",
      "{'_id': ObjectId('68405b758cf6883c1cc122f5'), 'Name': {'firstname': 'Jakes', 'lastname': 'Bijoy'}, 'Age': 33, 'Married': False}\n"
     ]
    }
   ],
   "source": [
    "var=col.find({\"$or\":[{\"Name\":{\"$regex\":\"m$\"}},{\"Age\":33}]},{})\n",
    "for i in var:\n",
    "    print(i)"
   ]
  },
  {
   "cell_type": "code",
   "execution_count": 71,
   "id": "a6aaa745",
   "metadata": {},
   "outputs": [
    {
     "name": "stdout",
     "output_type": "stream",
     "text": [
      "{'_id': ObjectId('68405b758cf6883c1cc122f5'), 'Name': {'firstname': 'Jakes', 'lastname': 'Bijoy'}, 'Age': 33, 'Married': False}\n",
      "{'_id': ObjectId('68405b758cf6883c1cc122f6'), 'Name': {'firstname': 'King', 'lastname': 'Cobra'}, 'Age': 30, 'Married': True}\n"
     ]
    }
   ],
   "source": [
    "var=col.find({\"Age\":{\"$in\":[30,33]}},{})\n",
    "for i in var:\n",
    "    print(i)"
   ]
  },
  {
   "cell_type": "code",
   "execution_count": 17,
   "id": "70e858ad",
   "metadata": {},
   "outputs": [],
   "source": [
    "col1=db['students']"
   ]
  },
  {
   "cell_type": "code",
   "execution_count": 74,
   "id": "7bfa7f59",
   "metadata": {},
   "outputs": [
    {
     "data": {
      "text/plain": [
       "InsertManyResult([ObjectId('68406c958cf6883c1cc122f7'), ObjectId('68406c958cf6883c1cc122f8'), ObjectId('68406c958cf6883c1cc122f9'), ObjectId('68406c958cf6883c1cc122fa'), ObjectId('68406c958cf6883c1cc122fb'), ObjectId('68406c958cf6883c1cc122fc')], acknowledged=True)"
      ]
     },
     "execution_count": 74,
     "metadata": {},
     "output_type": "execute_result"
    }
   ],
   "source": [
    "value=[\n",
    "    {\"Name\":\"John\",\"Sub\":\"maths\",\"Mark\":80},\n",
    "    {\"Name\":\"John\",\"Sub\":\"science\",\"Mark\":90},\n",
    "    {\"Name\":\"King\",\"Sub\":\"maths\",\"Mark\":60},\n",
    "    {\"Name\":\"King\",\"Sub\":\"science\",\"Mark\":90},\n",
    "    {\"Name\":\"Sam\",\"Sub\":\"maths\",\"Mark\":70},\n",
    "    {\"Name\":\"Sam\",\"Sub\":\"science\",\"Mark\":57}\n",
    "]\n",
    "col1.insert_many(value)"
   ]
  },
  {
   "cell_type": "code",
   "execution_count": 75,
   "id": "bca676c6",
   "metadata": {},
   "outputs": [
    {
     "name": "stdout",
     "output_type": "stream",
     "text": [
      "{'_id': 'John', 'Total Marks': 170}\n",
      "{'_id': 'King', 'Total Marks': 150}\n",
      "{'_id': 'Sam', 'Total Marks': 127}\n"
     ]
    }
   ],
   "source": [
    "val=col1.aggregate([{\"$group\":{\n",
    "    \"_id\":\"$Name\",\n",
    "    \"Total Marks\":{\"$sum\":\"$Mark\"}\n",
    "}}])\n",
    "\n",
    "for i in val:\n",
    "    print(i)"
   ]
  },
  {
   "cell_type": "code",
   "execution_count": 76,
   "id": "b24ad195",
   "metadata": {},
   "outputs": [
    {
     "name": "stdout",
     "output_type": "stream",
     "text": [
      "{'_id': 'John', 'Average Mark': 85.0, 'Highest': 90, 'Lowest': 80}\n",
      "{'_id': 'King', 'Average Mark': 75.0, 'Highest': 90, 'Lowest': 60}\n",
      "{'_id': 'Sam', 'Average Mark': 63.5, 'Highest': 70, 'Lowest': 57}\n"
     ]
    }
   ],
   "source": [
    "val=col1.aggregate([\n",
    "    {\"$group\":{\n",
    "        \"_id\":\"$Name\",\n",
    "        \"Average Mark\":{\"$avg\":\"$Mark\"},\n",
    "        \"Highest\":{\"$max\":\"$Mark\"},\n",
    "        \"Lowest\":{\"$min\":\"$Mark\"}\n",
    "    }}\n",
    "])\n",
    "\n",
    "for i in val:\n",
    "    print(i)"
   ]
  },
  {
   "cell_type": "code",
   "execution_count": 26,
   "id": "9b6de401",
   "metadata": {},
   "outputs": [],
   "source": [
    "val=col.find({\"Mark\":{\"$gt\":{\"$avg\":\"Mark\"}}},{})\n",
    "for i in val:\n",
    "    print(i)"
   ]
  },
  {
   "cell_type": "code",
   "execution_count": 86,
   "id": "1ea5b29d",
   "metadata": {},
   "outputs": [
    {
     "name": "stdout",
     "output_type": "stream",
     "text": [
      "{'_id': 'John', 'Total mark': 170}\n",
      "{'_id': 'King', 'Total mark': 150}\n"
     ]
    }
   ],
   "source": [
    "val=col1.aggregate([\n",
    "    {\"$group\":{\n",
    "        \"_id\":\"$Name\",\n",
    "        \"Total mark\":{\"$sum\":\"$Mark\"}\n",
    "    }},\n",
    "    {\"$sort\":{\"Total mark\":-1}},\n",
    "    {\"$limit\":2}\n",
    "])\n",
    "for i in val:\n",
    "    print(i)"
   ]
  },
  {
   "cell_type": "code",
   "execution_count": 83,
   "id": "2a8c1bfc",
   "metadata": {},
   "outputs": [
    {
     "name": "stdout",
     "output_type": "stream",
     "text": [
      "{'_id': 'maths', 'Total mark': 210}\n",
      "{'_id': 'science', 'Total mark': 237}\n"
     ]
    }
   ],
   "source": [
    "val=col1.aggregate([\n",
    "    {\"$group\":{\n",
    "        \"_id\":\"$Sub\",\n",
    "        \"Total mark\":{\"$sum\":\"$Mark\"}\n",
    "    }}\n",
    "])\n",
    "\n",
    "for i in val:\n",
    "    print(i)"
   ]
  },
  {
   "cell_type": "code",
   "execution_count": 84,
   "id": "512d67f6",
   "metadata": {},
   "outputs": [
    {
     "name": "stdout",
     "output_type": "stream",
     "text": [
      "{'_id': ObjectId('68406c958cf6883c1cc122f8'), 'Name': 'John', 'Sub': 'science', 'Mark': 90}\n",
      "{'_id': ObjectId('68406c958cf6883c1cc122fa'), 'Name': 'King', 'Sub': 'science', 'Mark': 90}\n",
      "{'_id': ObjectId('68406c958cf6883c1cc122f7'), 'Name': 'John', 'Sub': 'maths', 'Mark': 80}\n",
      "{'_id': ObjectId('68406c958cf6883c1cc122fb'), 'Name': 'Sam', 'Sub': 'maths', 'Mark': 70}\n",
      "{'_id': ObjectId('68406c958cf6883c1cc122f9'), 'Name': 'King', 'Sub': 'maths', 'Mark': 60}\n",
      "{'_id': ObjectId('68406c958cf6883c1cc122fc'), 'Name': 'Sam', 'Sub': 'science', 'Mark': 57}\n"
     ]
    }
   ],
   "source": [
    "val=col1.find({},{}).sort({\"Mark\":-1})\n",
    "for i in val:\n",
    "    print(i)"
   ]
  },
  {
   "cell_type": "code",
   "execution_count": 94,
   "id": "d9ac3e10",
   "metadata": {},
   "outputs": [
    {
     "name": "stdout",
     "output_type": "stream",
     "text": [
      "{'_id': 2, 'Name': 'Sam', 'Age': 22, 'Married': False}\n",
      "{'_id': ObjectId('68405b758cf6883c1cc122f6'), 'Name': {'firstname': 'King', 'lastname': 'Cobra'}, 'Age': 30, 'Married': True}\n"
     ]
    }
   ],
   "source": [
    "val=col.find({\"$and\":[{\"Age\":{\"$gte\":22}},{\"Age\":{\"$lt\":33}}]},{})\n",
    "for i in val:\n",
    "    print(i)"
   ]
  },
  {
   "cell_type": "code",
   "execution_count": null,
   "id": "3ca53234",
   "metadata": {},
   "outputs": [],
   "source": []
  },
  {
   "cell_type": "code",
   "execution_count": 18,
   "id": "252968d8",
   "metadata": {},
   "outputs": [
    {
     "name": "stdout",
     "output_type": "stream",
     "text": [
      "{'_id': ObjectId('68406c958cf6883c1cc122f7'), 'Name': 'John', 'Sub': 'maths', 'Mark': 80}\n",
      "{'_id': ObjectId('68406c958cf6883c1cc122f8'), 'Name': 'John', 'Sub': 'science', 'Mark': 90}\n",
      "{'_id': ObjectId('68406c958cf6883c1cc122f9'), 'Name': 'King', 'Sub': 'maths', 'Mark': 60}\n",
      "{'_id': ObjectId('68406c958cf6883c1cc122fa'), 'Name': 'King', 'Sub': 'science', 'Mark': 90}\n",
      "{'_id': ObjectId('68406c958cf6883c1cc122fb'), 'Name': 'Sam', 'Sub': 'maths', 'Mark': 70}\n",
      "{'_id': ObjectId('68406c958cf6883c1cc122fc'), 'Name': 'Sam', 'Sub': 'science', 'Mark': 57}\n"
     ]
    }
   ],
   "source": [
    "var=col1.find({},{})\n",
    "for i in var:\n",
    "    print(i)"
   ]
  },
  {
   "cell_type": "code",
   "execution_count": null,
   "id": "473b113e",
   "metadata": {},
   "outputs": [],
   "source": []
  },
  {
   "cell_type": "code",
   "execution_count": 14,
   "id": "82752ebb",
   "metadata": {},
   "outputs": [
    {
     "name": "stdout",
     "output_type": "stream",
     "text": [
      "Subi\n",
      "Sam\n",
      "Jakes\n",
      "King\n"
     ]
    }
   ],
   "source": [
    "val=col.find({},{})\n",
    "for i in val:\n",
    "    print(i['Name']['firstname'] if isinstance(i['Name'],dict) else i['Name'])\n"
   ]
  },
  {
   "cell_type": "code",
   "execution_count": 29,
   "id": "021611ef",
   "metadata": {},
   "outputs": [
    {
     "name": "stdout",
     "output_type": "stream",
     "text": [
      "{'_id': 'John', 'totalmark': 170, 'Sub': 2}\n",
      "{'_id': 'Sam', 'totalmark': 127, 'Sub': 2}\n",
      "{'_id': 'King', 'totalmark': 150, 'Sub': 2}\n"
     ]
    }
   ],
   "source": [
    "val=col1.aggregate([\n",
    "    {\"$group\":{\n",
    "        \"_id\":\"$Name\",\n",
    "        \"totalmark\":{\"$sum\":\"$Mark\"},\n",
    "        \"Sub\":{\"$sum\":1}\n",
    "    }}\n",
    "])\n",
    "for i in val:\n",
    "    print(i)"
   ]
  },
  {
   "cell_type": "code",
   "execution_count": null,
   "id": "bf6eadcb",
   "metadata": {},
   "outputs": [],
   "source": []
  },
  {
   "cell_type": "code",
   "execution_count": null,
   "id": "4badc44d",
   "metadata": {},
   "outputs": [],
   "source": []
  },
  {
   "cell_type": "code",
   "execution_count": null,
   "id": "5b0032ab",
   "metadata": {},
   "outputs": [],
   "source": []
  },
  {
   "cell_type": "code",
   "execution_count": null,
   "id": "786dc495",
   "metadata": {},
   "outputs": [],
   "source": []
  },
  {
   "cell_type": "code",
   "execution_count": null,
   "id": "d9d998d0",
   "metadata": {},
   "outputs": [],
   "source": []
  },
  {
   "cell_type": "code",
   "execution_count": null,
   "id": "e7c64053",
   "metadata": {},
   "outputs": [],
   "source": []
  },
  {
   "cell_type": "code",
   "execution_count": null,
   "id": "f217e290",
   "metadata": {},
   "outputs": [],
   "source": []
  },
  {
   "cell_type": "code",
   "execution_count": null,
   "id": "65667b70",
   "metadata": {},
   "outputs": [],
   "source": []
  },
  {
   "cell_type": "code",
   "execution_count": null,
   "id": "af558969",
   "metadata": {},
   "outputs": [],
   "source": []
  },
  {
   "cell_type": "code",
   "execution_count": null,
   "id": "04d22a71",
   "metadata": {},
   "outputs": [],
   "source": []
  },
  {
   "cell_type": "code",
   "execution_count": null,
   "id": "2df3e381",
   "metadata": {},
   "outputs": [],
   "source": []
  },
  {
   "cell_type": "code",
   "execution_count": null,
   "id": "0ed9b6e1",
   "metadata": {},
   "outputs": [],
   "source": []
  },
  {
   "cell_type": "code",
   "execution_count": null,
   "id": "24514616",
   "metadata": {},
   "outputs": [],
   "source": []
  },
  {
   "cell_type": "code",
   "execution_count": null,
   "id": "a292e582",
   "metadata": {},
   "outputs": [],
   "source": []
  },
  {
   "cell_type": "code",
   "execution_count": null,
   "id": "a7aa71cc",
   "metadata": {},
   "outputs": [],
   "source": []
  },
  {
   "cell_type": "code",
   "execution_count": null,
   "id": "97339e02",
   "metadata": {},
   "outputs": [],
   "source": []
  },
  {
   "cell_type": "code",
   "execution_count": null,
   "id": "f1bec17b",
   "metadata": {},
   "outputs": [],
   "source": []
  },
  {
   "cell_type": "code",
   "execution_count": null,
   "id": "5fe9dfec",
   "metadata": {},
   "outputs": [],
   "source": []
  },
  {
   "cell_type": "code",
   "execution_count": null,
   "id": "4396d1ff",
   "metadata": {},
   "outputs": [],
   "source": []
  },
  {
   "cell_type": "code",
   "execution_count": null,
   "id": "1e69c66f",
   "metadata": {},
   "outputs": [],
   "source": []
  },
  {
   "cell_type": "code",
   "execution_count": null,
   "id": "4f34c160",
   "metadata": {},
   "outputs": [],
   "source": []
  },
  {
   "cell_type": "code",
   "execution_count": null,
   "id": "4a1ddde3",
   "metadata": {},
   "outputs": [],
   "source": []
  },
  {
   "cell_type": "code",
   "execution_count": null,
   "id": "8c995d3c",
   "metadata": {},
   "outputs": [],
   "source": []
  },
  {
   "cell_type": "code",
   "execution_count": null,
   "id": "f934ae32",
   "metadata": {},
   "outputs": [],
   "source": []
  },
  {
   "cell_type": "code",
   "execution_count": null,
   "id": "ef502d84",
   "metadata": {},
   "outputs": [],
   "source": []
  },
  {
   "cell_type": "code",
   "execution_count": null,
   "id": "68c2c0e0",
   "metadata": {},
   "outputs": [],
   "source": []
  },
  {
   "cell_type": "code",
   "execution_count": null,
   "id": "8c3643d4",
   "metadata": {},
   "outputs": [],
   "source": []
  },
  {
   "cell_type": "code",
   "execution_count": null,
   "id": "01600ef6",
   "metadata": {},
   "outputs": [],
   "source": []
  },
  {
   "cell_type": "code",
   "execution_count": null,
   "id": "9c8e8050",
   "metadata": {},
   "outputs": [],
   "source": []
  },
  {
   "cell_type": "code",
   "execution_count": null,
   "id": "51664cf0",
   "metadata": {},
   "outputs": [],
   "source": []
  },
  {
   "cell_type": "code",
   "execution_count": null,
   "id": "88bbab20",
   "metadata": {},
   "outputs": [],
   "source": []
  },
  {
   "cell_type": "code",
   "execution_count": null,
   "id": "a0c94278",
   "metadata": {},
   "outputs": [],
   "source": []
  },
  {
   "cell_type": "code",
   "execution_count": null,
   "id": "d2882e37",
   "metadata": {},
   "outputs": [],
   "source": []
  },
  {
   "cell_type": "code",
   "execution_count": null,
   "id": "a5900186",
   "metadata": {},
   "outputs": [],
   "source": []
  },
  {
   "cell_type": "code",
   "execution_count": null,
   "id": "f2b8d5c9",
   "metadata": {},
   "outputs": [],
   "source": []
  },
  {
   "cell_type": "code",
   "execution_count": null,
   "id": "8fd1c0d7",
   "metadata": {},
   "outputs": [],
   "source": []
  },
  {
   "cell_type": "code",
   "execution_count": null,
   "id": "05cf4daa",
   "metadata": {},
   "outputs": [],
   "source": []
  },
  {
   "cell_type": "code",
   "execution_count": null,
   "id": "e5071d3f",
   "metadata": {},
   "outputs": [],
   "source": []
  },
  {
   "cell_type": "code",
   "execution_count": null,
   "id": "808b4ddb",
   "metadata": {},
   "outputs": [],
   "source": []
  },
  {
   "cell_type": "code",
   "execution_count": null,
   "id": "bf13435d",
   "metadata": {},
   "outputs": [],
   "source": []
  },
  {
   "cell_type": "code",
   "execution_count": null,
   "id": "ca538972",
   "metadata": {},
   "outputs": [],
   "source": []
  },
  {
   "cell_type": "code",
   "execution_count": null,
   "id": "a9dc2a28",
   "metadata": {},
   "outputs": [],
   "source": []
  },
  {
   "cell_type": "code",
   "execution_count": null,
   "id": "ae78a799",
   "metadata": {},
   "outputs": [],
   "source": []
  },
  {
   "cell_type": "code",
   "execution_count": null,
   "id": "d99c5304",
   "metadata": {},
   "outputs": [],
   "source": []
  },
  {
   "cell_type": "code",
   "execution_count": null,
   "id": "f0f5b829",
   "metadata": {},
   "outputs": [],
   "source": []
  },
  {
   "cell_type": "code",
   "execution_count": null,
   "id": "422c5c91",
   "metadata": {},
   "outputs": [],
   "source": []
  },
  {
   "cell_type": "code",
   "execution_count": null,
   "id": "d2feeb44",
   "metadata": {},
   "outputs": [],
   "source": []
  },
  {
   "cell_type": "code",
   "execution_count": null,
   "id": "58d5e2d3",
   "metadata": {},
   "outputs": [],
   "source": []
  },
  {
   "cell_type": "code",
   "execution_count": null,
   "id": "d1b69ec5",
   "metadata": {},
   "outputs": [],
   "source": []
  },
  {
   "cell_type": "code",
   "execution_count": null,
   "id": "256efd3a",
   "metadata": {},
   "outputs": [],
   "source": []
  },
  {
   "cell_type": "code",
   "execution_count": null,
   "id": "476b9be1",
   "metadata": {},
   "outputs": [],
   "source": []
  },
  {
   "cell_type": "code",
   "execution_count": null,
   "id": "2dd9068c",
   "metadata": {},
   "outputs": [],
   "source": []
  },
  {
   "cell_type": "code",
   "execution_count": null,
   "id": "9e6aa587",
   "metadata": {},
   "outputs": [],
   "source": []
  },
  {
   "cell_type": "code",
   "execution_count": null,
   "id": "eae4c75f",
   "metadata": {},
   "outputs": [],
   "source": []
  },
  {
   "cell_type": "code",
   "execution_count": null,
   "id": "444a29d2",
   "metadata": {},
   "outputs": [],
   "source": []
  },
  {
   "cell_type": "code",
   "execution_count": null,
   "id": "5454702d",
   "metadata": {},
   "outputs": [],
   "source": []
  },
  {
   "cell_type": "code",
   "execution_count": null,
   "id": "3a4861ca",
   "metadata": {},
   "outputs": [],
   "source": []
  },
  {
   "cell_type": "code",
   "execution_count": null,
   "id": "689ddadf",
   "metadata": {},
   "outputs": [],
   "source": []
  },
  {
   "cell_type": "code",
   "execution_count": null,
   "id": "2ab3509a",
   "metadata": {},
   "outputs": [],
   "source": []
  },
  {
   "cell_type": "code",
   "execution_count": null,
   "id": "702b73e4",
   "metadata": {},
   "outputs": [],
   "source": []
  },
  {
   "cell_type": "code",
   "execution_count": null,
   "id": "95875240",
   "metadata": {},
   "outputs": [],
   "source": []
  },
  {
   "cell_type": "code",
   "execution_count": null,
   "id": "61992ba0",
   "metadata": {},
   "outputs": [],
   "source": []
  },
  {
   "cell_type": "code",
   "execution_count": null,
   "id": "80bad696",
   "metadata": {},
   "outputs": [],
   "source": []
  },
  {
   "cell_type": "code",
   "execution_count": null,
   "id": "1df8c6cb",
   "metadata": {},
   "outputs": [],
   "source": []
  },
  {
   "cell_type": "code",
   "execution_count": null,
   "id": "ff118f8f",
   "metadata": {},
   "outputs": [],
   "source": []
  },
  {
   "cell_type": "code",
   "execution_count": null,
   "id": "31e15719",
   "metadata": {},
   "outputs": [],
   "source": []
  }
 ],
 "metadata": {
  "kernelspec": {
   "display_name": "Python 3",
   "language": "python",
   "name": "python3"
  },
  "language_info": {
   "codemirror_mode": {
    "name": "ipython",
    "version": 3
   },
   "file_extension": ".py",
   "mimetype": "text/x-python",
   "name": "python",
   "nbconvert_exporter": "python",
   "pygments_lexer": "ipython3",
   "version": "3.13.0"
  }
 },
 "nbformat": 4,
 "nbformat_minor": 5
}
