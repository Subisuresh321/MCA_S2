{
 "cells": [
  {
   "cell_type": "code",
   "execution_count": null,
   "metadata": {},
   "outputs": [],
   "source": [
    "import pymongo\n",
    "conn= pymongo.MongoClient(\"mongodb://localhost:27017/\")\n",
    "db = conn[\"mydatabase\"]\n",
    "col2=db[\"student_tbl\"]\n",
    "col2.insert_one({\"Firstname\":\"Subi\",\"Lastname\":\"Suresh\",\"Gender\":\"M\",\"Course\":\"MCA\",\"Place\":\"Alappuzha\",\"Mark\":80,\"Grade\":\"B+\"})"
   ]
  },
  {
   "cell_type": "code",
   "execution_count": 3,
   "metadata": {},
   "outputs": [
    {
     "data": {
      "text/plain": [
       "InsertManyResult([ObjectId('67e2490c0b6d8ffdb6644343'), ObjectId('67e2490c0b6d8ffdb6644344'), ObjectId('67e2490c0b6d8ffdb6644345'), ObjectId('67e2490c0b6d8ffdb6644346'), ObjectId('67e2490c0b6d8ffdb6644347')], acknowledged=True)"
      ]
     },
     "execution_count": 3,
     "metadata": {},
     "output_type": "execute_result"
    }
   ],
   "source": [
    "values =[\n",
    "    {\"Firstname\":\"Kajel\",\"Lastname\":\"Aggarwal\",\"Gender\":\"F\",\"Course\":\"Mech\",\"Place\":\"KTM\",\"Mark\":95,\"Grade\":\"A+\"},\n",
    "    {\"Firstname\":\"Roy\",\"Lastname\":\"Mathew\",\"Gender\":\"M\",\"Course\":\"MCA\",\"Place\":\"TVM\",\"Mark\":35,\"Grade\":\"D\"},\n",
    "    {\"Firstname\":\"Kunju\",\"Lastname\":\"Vava\",\"Gender\":\"M\",\"Course\":\"Mech\",\"Place\":\"MLM\",\"Mark\":70,\"Grade\":\"B\"},\n",
    "    {\"Firstname\":\"Adhi\",\"Lastname\":\"Lal\",\"Gender\":\"M\",\"Course\":\"Mech\",\"Place\":\"KLM\",\"Mark\":81,\"Grade\":\"B+\"},\n",
    "    {\"Firstname\":\"Anu\",\"Lastname\":\"Mathew\",\"Gender\":\"F\",\"Course\":\"MCA\",\"Place\":\"TVM\",\"Mark\":95,\"Grade\":\"A+\"},\n",
    "]\n",
    "col2.insert_many(values)"
   ]
  },
  {
   "cell_type": "code",
   "execution_count": 6,
   "metadata": {},
   "outputs": [
    {
     "name": "stdout",
     "output_type": "stream",
     "text": [
      "{'Firstname': 'Kajel', 'Lastname': 'Aggarwal', 'Mark': 95}\n",
      "{'Firstname': 'Anu', 'Lastname': 'Mathew', 'Mark': 95}\n"
     ]
    }
   ],
   "source": [
    "var = col2.find({\"Gender\":\"F\"},{\"_id\":0,\"Firstname\":1,\"Lastname\":1,\"Mark\":1})\n",
    "for i in var:\n",
    "    print(i)"
   ]
  },
  {
   "cell_type": "markdown",
   "metadata": {},
   "source": [
    "<h2>Details of student with higest mark</h2>"
   ]
  },
  {
   "cell_type": "code",
   "execution_count": 14,
   "metadata": {},
   "outputs": [
    {
     "name": "stdout",
     "output_type": "stream",
     "text": [
      "{'Firstname': 'Anu', 'Lastname': 'Mathew', 'Gender': 'F', 'Course': 'MCA', 'Place': 'TVM', 'Mark': 95, 'Grade': 'A+'}\n"
     ]
    }
   ],
   "source": [
    "maxmark=col2.find({\"Course\":\"MCA\"},{\"Mark\":1,\"_id\":0}).sort({\"Mark\":-1})[0][\"Mark\"]\n",
    "var = col2.find({\"Mark\":maxmark,\"Course\":\"MCA\"},{\"_id\":0})\n",
    "for i in var:\n",
    "    print(i)\n"
   ]
  },
  {
   "cell_type": "code",
   "execution_count": 15,
   "metadata": {},
   "outputs": [
    {
     "data": {
      "text/plain": [
       "InsertOneResult(ObjectId('67e2778e1c94f5b074956178'), acknowledged=True)"
      ]
     },
     "execution_count": 15,
     "metadata": {},
     "output_type": "execute_result"
    }
   ],
   "source": [
    "col2.insert_one( {\"Firstname\":\"Pokkiri\",\"Lastname\":\"Selvam\",\"Gender\":\"M\",\"Course\":\"Mech\",\"Place\":\"PLKD\",\"Mark\":92,\"Grade\":\"A+\"})"
   ]
  },
  {
   "cell_type": "code",
   "execution_count": 16,
   "metadata": {},
   "outputs": [
    {
     "name": "stdout",
     "output_type": "stream",
     "text": [
      "{'Firstname': 'Pokkiri', 'Lastname': 'Selvam', 'Gender': 'M', 'Course': 'Mech', 'Place': 'PLKD', 'Mark': 92, 'Grade': 'A+'}\n"
     ]
    }
   ],
   "source": [
    "var = col2.find({\"Gender\":\"M\",\"Grade\":\"A+\"},{\"_id\":0})\n",
    "for i in var:\n",
    "    print(i)"
   ]
  },
  {
   "cell_type": "code",
   "execution_count": 17,
   "metadata": {},
   "outputs": [
    {
     "name": "stdout",
     "output_type": "stream",
     "text": [
      "{'Firstname': 'Kajel', 'Lastname': 'Aggarwal', 'Gender': 'F', 'Course': 'Mech', 'Place': 'KTM', 'Mark': 95, 'Grade': 'A+'}\n",
      "{'Firstname': 'Pokkiri', 'Lastname': 'Selvam', 'Gender': 'M', 'Course': 'Mech', 'Place': 'PLKD', 'Mark': 92, 'Grade': 'A+'}\n",
      "{'Firstname': 'Adhi', 'Lastname': 'Lal', 'Gender': 'M', 'Course': 'Mech', 'Place': 'KLM', 'Mark': 81, 'Grade': 'B+'}\n",
      "{'Firstname': 'Kunju', 'Lastname': 'Vava', 'Gender': 'M', 'Course': 'Mech', 'Place': 'MLM', 'Mark': 70, 'Grade': 'B'}\n"
     ]
    }
   ],
   "source": [
    "var = col2.find({\"Course\":\"Mech\"},{\"_id\":0}).sort({\"Mark\":-1}).limit(5)\n",
    "for i in var:\n",
    "    print(i)"
   ]
  },
  {
   "cell_type": "code",
   "execution_count": 22,
   "metadata": {},
   "outputs": [
    {
     "name": "stdout",
     "output_type": "stream",
     "text": [
      "{'Firstname': 'Kajel', 'Lastname': 'Aggarwal', 'Gender': 'F', 'Course': 'Mech', 'Place': 'KTM', 'Mark': 95, 'Grade': 'A+'}\n",
      "{'Firstname': 'Anu', 'Lastname': 'Mathew', 'Gender': 'F', 'Course': 'MCA', 'Place': 'TVM', 'Mark': 95, 'Grade': 'A+'}\n"
     ]
    }
   ],
   "source": [
    "var = col2.find({\"Gender\":\"F\",\"Mark\":{\"$gt\":90}},{\"_id\":0})\n",
    "for i in var:\n",
    "    print(i)"
   ]
  },
  {
   "cell_type": "code",
   "execution_count": 21,
   "metadata": {},
   "outputs": [
    {
     "name": "stdout",
     "output_type": "stream",
     "text": [
      "{'Firstname': 'Subi', 'Lastname': 'Suresh', 'Gender': 'M', 'Course': 'MCA', 'Place': 'Alappuzha', 'Mark': 80, 'Grade': 'B+'}\n",
      "{'Firstname': 'Adhi', 'Lastname': 'Lal', 'Gender': 'M', 'Course': 'Mech', 'Place': 'KLM', 'Mark': 81, 'Grade': 'B+'}\n"
     ]
    }
   ],
   "source": [
    "var = col2.find({\"Mark\":{\"$gte\":80,\"$lte\":90}},{\"_id\":0})\n",
    "for i in var:\n",
    "    print(i)"
   ]
  },
  {
   "cell_type": "code",
   "execution_count": 25,
   "metadata": {},
   "outputs": [
    {
     "name": "stdout",
     "output_type": "stream",
     "text": [
      "{'Firstname': 'Subi', 'Lastname': 'Suresh', 'Gender': 'M', 'Course': 'MCA', 'Place': 'Alappuzha', 'Mark': 80, 'Grade': 'B+'}\n"
     ]
    }
   ],
   "source": [
    "var = col2.find({\"Firstname\":{\"$regex\":\"^S\"}},{\"_id\":0})\n",
    "for i in var:\n",
    "    print(i)"
   ]
  },
  {
   "cell_type": "code",
   "execution_count": 26,
   "metadata": {},
   "outputs": [
    {
     "name": "stdout",
     "output_type": "stream",
     "text": [
      "{'Firstname': 'Adhi', 'Lastname': 'Lal', 'Gender': 'M', 'Course': 'Mech', 'Place': 'KLM', 'Mark': 81, 'Grade': 'B+'}\n"
     ]
    }
   ],
   "source": [
    "var = col2.find({\"Place\":\"KLM\"},{\"_id\":0})\n",
    "for i in var:\n",
    "    print(i)"
   ]
  },
  {
   "cell_type": "code",
   "execution_count": 27,
   "metadata": {},
   "outputs": [
    {
     "name": "stdout",
     "output_type": "stream",
     "text": [
      "{'Firstname': 'Roy', 'Lastname': 'Mathew', 'Gender': 'M', 'Course': 'MCA', 'Place': 'TVM', 'Mark': 35, 'Grade': 'D'}\n",
      "{'Firstname': 'Kunju', 'Lastname': 'Vava', 'Gender': 'M', 'Course': 'Mech', 'Place': 'MLM', 'Mark': 70, 'Grade': 'B'}\n",
      "{'Firstname': 'Anu', 'Lastname': 'Mathew', 'Gender': 'F', 'Course': 'MCA', 'Place': 'TVM', 'Mark': 95, 'Grade': 'A+'}\n"
     ]
    }
   ],
   "source": [
    "var = col2.find({\"$or\":[{\"Place\":\"MLM\"},{\"Place\":\"TVM\"}]},{\"_id\":0})\n",
    "for i in var:\n",
    "    print(i)"
   ]
  },
  {
   "cell_type": "code",
   "execution_count": null,
   "metadata": {},
   "outputs": [],
   "source": []
  }
 ],
 "metadata": {
  "kernelspec": {
   "display_name": "Python 3",
   "language": "python",
   "name": "python3"
  },
  "language_info": {
   "codemirror_mode": {
    "name": "ipython",
    "version": 3
   },
   "file_extension": ".py",
   "mimetype": "text/x-python",
   "name": "python",
   "nbconvert_exporter": "python",
   "pygments_lexer": "ipython3",
   "version": "3.12.7"
  }
 },
 "nbformat": 4,
 "nbformat_minor": 2
}
