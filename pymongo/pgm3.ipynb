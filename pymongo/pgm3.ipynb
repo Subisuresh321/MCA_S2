{
 "cells": [
  {
   "cell_type": "code",
   "execution_count": 2,
   "metadata": {},
   "outputs": [
    {
     "data": {
      "text/plain": [
       "InsertOneResult(ObjectId('67e2468b0b6d8ffdb6644342'), acknowledged=True)"
      ]
     },
     "execution_count": 2,
     "metadata": {},
     "output_type": "execute_result"
    }
   ],
   "source": [
    "import pymongo\n",
    "conn= pymongo.MongoClient(\"mongodb://localhost:27017/\")\n",
    "db = conn[\"mydatabase\"]\n",
    "col2=db[\"student_tbl\"]\n",
    "col2.insert_one({\"Firstname\":\"Subi\",\"Lastname\":\"Suresh\",\"Gender\":\"M\",\"Course\":\"MCA\",\"Place\":\"Alappuzha\",\"Mark\":80,\"Grade\":\"B+\"})"
   ]
  },
  {
   "cell_type": "code",
   "execution_count": 3,
   "metadata": {},
   "outputs": [
    {
     "data": {
      "text/plain": [
       "InsertManyResult([ObjectId('67e2490c0b6d8ffdb6644343'), ObjectId('67e2490c0b6d8ffdb6644344'), ObjectId('67e2490c0b6d8ffdb6644345'), ObjectId('67e2490c0b6d8ffdb6644346'), ObjectId('67e2490c0b6d8ffdb6644347')], acknowledged=True)"
      ]
     },
     "execution_count": 3,
     "metadata": {},
     "output_type": "execute_result"
    }
   ],
   "source": [
    "values =[\n",
    "    {\"Firstname\":\"Kajel\",\"Lastname\":\"Aggarwal\",\"Gender\":\"F\",\"Course\":\"Mech\",\"Place\":\"KTM\",\"Mark\":95,\"Grade\":\"A+\"},\n",
    "    {\"Firstname\":\"Roy\",\"Lastname\":\"Mathew\",\"Gender\":\"M\",\"Course\":\"MCA\",\"Place\":\"TVM\",\"Mark\":35,\"Grade\":\"D\"},\n",
    "    {\"Firstname\":\"Kunju\",\"Lastname\":\"Vava\",\"Gender\":\"M\",\"Course\":\"Mech\",\"Place\":\"MLM\",\"Mark\":70,\"Grade\":\"B\"},\n",
    "    {\"Firstname\":\"Adhi\",\"Lastname\":\"Lal\",\"Gender\":\"M\",\"Course\":\"Mech\",\"Place\":\"KLM\",\"Mark\":81,\"Grade\":\"B+\"},\n",
    "    {\"Firstname\":\"Anu\",\"Lastname\":\"Mathew\",\"Gender\":\"F\",\"Course\":\"MCA\",\"Place\":\"TVM\",\"Mark\":95,\"Grade\":\"A+\"},\n",
    "]\n",
    "col2.insert_many(values)"
   ]
  },
  {
   "cell_type": "code",
   "execution_count": 6,
   "metadata": {},
   "outputs": [
    {
     "name": "stdout",
     "output_type": "stream",
     "text": [
      "{'Firstname': 'Kajel', 'Lastname': 'Aggarwal', 'Mark': 95}\n",
      "{'Firstname': 'Anu', 'Lastname': 'Mathew', 'Mark': 95}\n"
     ]
    }
   ],
   "source": [
    "var = col2.find({\"Gender\":\"F\"},{\"_id\":0,\"Firstname\":1,\"Lastname\":1,\"Mark\":1})\n",
    "for i in var:\n",
    "    print(i)"
   ]
  },
  {
   "cell_type": "code",
   "execution_count": null,
   "metadata": {},
   "outputs": [
    {
     "ename": "TypeError",
     "evalue": "'>' not supported between instances of 'dict' and 'dict'",
     "output_type": "error",
     "traceback": [
      "\u001b[31m---------------------------------------------------------------------------\u001b[39m",
      "\u001b[31mTypeError\u001b[39m                                 Traceback (most recent call last)",
      "\u001b[36mCell\u001b[39m\u001b[36m \u001b[39m\u001b[32mIn[14]\u001b[39m\u001b[32m, line 1\u001b[39m\n\u001b[32m----> \u001b[39m\u001b[32m1\u001b[39m var = col2.find({\u001b[33m\"\u001b[39m\u001b[33mMark\u001b[39m\u001b[33m\"\u001b[39m:\u001b[38;5;28;43mmax\u001b[39;49m\u001b[43m(\u001b[49m\u001b[43mcol2\u001b[49m\u001b[43m.\u001b[49m\u001b[43mfind\u001b[49m\u001b[43m(\u001b[49m\u001b[43m{\u001b[49m\u001b[43m}\u001b[49m\u001b[43m,\u001b[49m\u001b[43m{\u001b[49m\u001b[33;43m\"\u001b[39;49m\u001b[33;43mMark\u001b[39;49m\u001b[33;43m\"\u001b[39;49m\u001b[43m:\u001b[49m\u001b[32;43m1\u001b[39;49m\u001b[43m,\u001b[49m\u001b[33;43m\"\u001b[39;49m\u001b[33;43m_id\u001b[39;49m\u001b[33;43m\"\u001b[39;49m\u001b[43m:\u001b[49m\u001b[32;43m0\u001b[39;49m\u001b[43m}\u001b[49m\u001b[43m)\u001b[49m\u001b[43m)\u001b[49m},{\u001b[33m\"\u001b[39m\u001b[33m_id\u001b[39m\u001b[33m\"\u001b[39m:\u001b[32m0\u001b[39m})\n\u001b[32m      2\u001b[39m \u001b[38;5;28;01mfor\u001b[39;00m i \u001b[38;5;129;01min\u001b[39;00m var:\n\u001b[32m      3\u001b[39m     \u001b[38;5;28mprint\u001b[39m(i)\n",
      "\u001b[31mTypeError\u001b[39m: '>' not supported between instances of 'dict' and 'dict'"
     ]
    }
   ],
   "source": [
    "var = col2.find({\"\"})\n",
    "for i in var:\n",
    "    print(i)"
   ]
  },
  {
   "cell_type": "code",
   "execution_count": null,
   "metadata": {},
   "outputs": [],
   "source": []
  }
 ],
 "metadata": {
  "kernelspec": {
   "display_name": "Python 3",
   "language": "python",
   "name": "python3"
  },
  "language_info": {
   "codemirror_mode": {
    "name": "ipython",
    "version": 3
   },
   "file_extension": ".py",
   "mimetype": "text/x-python",
   "name": "python",
   "nbconvert_exporter": "python",
   "pygments_lexer": "ipython3",
   "version": "3.12.7"
  }
 },
 "nbformat": 4,
 "nbformat_minor": 2
}
