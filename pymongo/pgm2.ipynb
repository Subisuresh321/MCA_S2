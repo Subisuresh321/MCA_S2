{
 "cells": [
  {
   "cell_type": "code",
   "execution_count": 28,
   "metadata": {},
   "outputs": [
    {
     "name": "stdout",
     "output_type": "stream",
     "text": [
      "{'Name': 'Sandra'}\n",
      "{'Name': 'Devi'}\n",
      "{'Name': 'Nazrin'}\n"
     ]
    }
   ],
   "source": [
    "import pymongo\n",
    "\n",
    "conn = pymongo.MongoClient(\"mongodb://localhost:27017/\")\n",
    "\n",
    "db=conn[\"mydatabase\"]\n",
    "col=db[\"student\"]\n",
    "\n",
    "value=[\n",
    "    {\"Name\":\"Subi\",\"Age\":21,\"Married\":True},\n",
    "    {\"Name\":\"SOORYA\",\"Age\":30,\"Married\":True,\"_id\":1},\n",
    "    {\"Name\":\"Subi\",\"course\":\"MCA\"}\n",
    "        ]\n",
    "# col.insert_many(value)\n",
    "\n",
    "var=col.find({},{\"Name\":1,\"_id\":0})\n",
    "for i in var: \n",
    "    print(i)\n"
   ]
  },
  {
   "cell_type": "code",
   "execution_count": 29,
   "metadata": {},
   "outputs": [
    {
     "data": {
      "text/plain": [
       "<pymongo.synchronous.cursor.Cursor at 0x1ab58c9d580>"
      ]
     },
     "execution_count": 29,
     "metadata": {},
     "output_type": "execute_result"
    }
   ],
   "source": [
    "col.find()"
   ]
  },
  {
   "cell_type": "code",
   "execution_count": 30,
   "metadata": {},
   "outputs": [
    {
     "name": "stdout",
     "output_type": "stream",
     "text": [
      "{'_id': ObjectId('67e229b6e641b0de7ee95b26'), 'Name': 'Sandra'}\n",
      "{'_id': ObjectId('67e229b6e641b0de7ee95b27'), 'Name': 'Devi'}\n",
      "{'_id': ObjectId('67e229b6e641b0de7ee95b28'), 'Name': 'Nazrin'}\n"
     ]
    }
   ],
   "source": [
    "var=col.find({},{\"Name\":1})\n",
    "for i in var:\n",
    "    print(i)"
   ]
  },
  {
   "cell_type": "code",
   "execution_count": 31,
   "metadata": {},
   "outputs": [],
   "source": [
    "var=col.find({\"Name\":\"SOORYA\"},{\"Name\":1,\"Married\":1})\n",
    "for i in var:\n",
    "    print(i)"
   ]
  },
  {
   "cell_type": "code",
   "execution_count": 32,
   "metadata": {},
   "outputs": [],
   "source": [
    "var = col.find({\"Name\":\"Subi\",\"Age\":21},{})\n",
    "for i in var:\n",
    "    print(i)"
   ]
  },
  {
   "cell_type": "code",
   "execution_count": 33,
   "metadata": {},
   "outputs": [],
   "source": [
    "var = col.find({\"Name\":\"Subi\",\"Age\":21},{\"Name\":1,\"Married\":1,\"_id\":0})\n",
    "for i in var:\n",
    "    print(i)"
   ]
  },
  {
   "cell_type": "code",
   "execution_count": 64,
   "metadata": {},
   "outputs": [
    {
     "name": "stdout",
     "output_type": "stream",
     "text": [
      "{'Name': 'Sandra'}\n"
     ]
    }
   ],
   "source": [
    "var = col.find({\"Age\":21},{\"Name\":1,\"Married\":1,\"_id\":0}).limit(1)\n",
    "for i in var:\n",
    "    print(i)"
   ]
  },
  {
   "cell_type": "code",
   "execution_count": 35,
   "metadata": {},
   "outputs": [
    {
     "name": "stdout",
     "output_type": "stream",
     "text": [
      "{'Name': 'Devi', 'Age': 23}\n",
      "{'Name': 'Sandra', 'Age': 21}\n",
      "{'Name': 'Nazrin', 'Age': 21}\n"
     ]
    }
   ],
   "source": [
    "var = col.find({},{\"Name\":1,\"Age\":1,\"_id\":0}).sort({\"Age\":-1})\n",
    "for i in var:\n",
    "    print(i)"
   ]
  },
  {
   "cell_type": "code",
   "execution_count": 36,
   "metadata": {},
   "outputs": [
    {
     "name": "stdout",
     "output_type": "stream",
     "text": [
      "{'Name': 'Sandra'}\n",
      "{'Name': 'Devi'}\n",
      "{'Name': 'Nazrin'}\n"
     ]
    }
   ],
   "source": [
    "var =  col.find({},{\"Name\":1,\"_id\":0})\n",
    "for i in var:\n",
    "    print(i)"
   ]
  },
  {
   "cell_type": "code",
   "execution_count": 37,
   "metadata": {},
   "outputs": [
    {
     "data": {
      "text/plain": [
       "InsertManyResult([ObjectId('67e232f3e641b0de7ee95b2a'), ObjectId('67e232f3e641b0de7ee95b2b'), ObjectId('67e232f3e641b0de7ee95b2c')], acknowledged=True)"
      ]
     },
     "execution_count": 37,
     "metadata": {},
     "output_type": "execute_result"
    }
   ],
   "source": [
    "value = [\n",
    "    {\"Name\":\"Sandra\", \"Age\":21, \"Place\": \"Ernakulam\" },\n",
    "    {\"Name\":\"Devi\", \"Age\":23, \"Place\": \"Malappuram\" },\n",
    "    {\"Name\":\"Nazrin\", \"Age\":21, \"Place\": \"Kottayam\" }\n",
    "]\n",
    "\n",
    "col.insert_many(value)"
   ]
  },
  {
   "cell_type": "code",
   "execution_count": 38,
   "metadata": {},
   "outputs": [
    {
     "name": "stdout",
     "output_type": "stream",
     "text": [
      "{'_id': ObjectId('67e229b6e641b0de7ee95b26'), 'Name': 'Sandra', 'Age': 21, 'Place': 'Kollam'}\n",
      "{'_id': ObjectId('67e229b6e641b0de7ee95b28'), 'Name': 'Nazrin', 'Age': 21, 'Place': 'Alappuzha'}\n",
      "{'_id': ObjectId('67e232f3e641b0de7ee95b2a'), 'Name': 'Sandra', 'Age': 21, 'Place': 'Ernakulam'}\n",
      "{'_id': ObjectId('67e232f3e641b0de7ee95b2c'), 'Name': 'Nazrin', 'Age': 21, 'Place': 'Kottayam'}\n"
     ]
    }
   ],
   "source": [
    "var =col.find({\"Age\":21})\n",
    "for i in var:\n",
    "    print(i)\n"
   ]
  },
  {
   "cell_type": "code",
   "execution_count": 39,
   "metadata": {},
   "outputs": [
    {
     "name": "stdout",
     "output_type": "stream",
     "text": [
      "{'Name': 'Devi'}\n",
      "{'Name': 'Devi'}\n"
     ]
    }
   ],
   "source": [
    "#age greater than 22\n",
    "var =col.find({\"Age\":{\"$gt\":21}},{\"Name\":1,\"_id\":0}) \n",
    "for i in var:\n",
    "    print(i)"
   ]
  },
  {
   "cell_type": "code",
   "execution_count": 40,
   "metadata": {},
   "outputs": [
    {
     "name": "stdout",
     "output_type": "stream",
     "text": [
      "{'Name': 'Nazrin'}\n"
     ]
    }
   ],
   "source": [
    "var= col.find({\"Age\":21,\"Place\":\"Kottayam\"},{\"Name\":1, \"_id\":0})\n",
    "for i in var:\n",
    "    print(i)"
   ]
  },
  {
   "cell_type": "code",
   "execution_count": 41,
   "metadata": {},
   "outputs": [
    {
     "name": "stdout",
     "output_type": "stream",
     "text": [
      "{'Name': 'Sandra'}\n",
      "{'Name': 'Devi'}\n",
      "{'Name': 'Nazrin'}\n",
      "{'Name': 'Sandra'}\n",
      "{'Name': 'Devi'}\n",
      "{'Name': 'Nazrin'}\n"
     ]
    }
   ],
   "source": [
    "#age greater than or equal 22\n",
    "var =col.find({\"Age\":{\"$gte\":21}},{\"Name\":1,\"_id\":0}) \n",
    "for i in var:\n",
    "    print(i)"
   ]
  },
  {
   "cell_type": "code",
   "execution_count": 42,
   "metadata": {},
   "outputs": [
    {
     "name": "stdout",
     "output_type": "stream",
     "text": [
      "{'Name': 'Sandra'}\n",
      "{'Name': 'Nazrin'}\n",
      "{'Name': 'Sandra'}\n",
      "{'Name': 'Nazrin'}\n"
     ]
    }
   ],
   "source": [
    "var= col.find({\"$or\":[{\"Age\":21},{\"Place\":\"Kottayam\"}]},{\"Name\":1, \"_id\":0})\n",
    "for i in var:\n",
    "    print(i)"
   ]
  },
  {
   "cell_type": "code",
   "execution_count": 43,
   "metadata": {},
   "outputs": [
    {
     "data": {
      "text/plain": [
       "UpdateResult({'n': 4, 'nModified': 3, 'ok': 1.0, 'updatedExisting': True}, acknowledged=True)"
      ]
     },
     "execution_count": 43,
     "metadata": {},
     "output_type": "execute_result"
    }
   ],
   "source": [
    "cond = {\"Age\":21}\n",
    "newvalue={\"$set\":{\"Place\":\"Alappuzha\"}}\n",
    "col.update_many(cond,newvalue)\n"
   ]
  },
  {
   "cell_type": "code",
   "execution_count": 44,
   "metadata": {},
   "outputs": [
    {
     "name": "stdout",
     "output_type": "stream",
     "text": [
      "{'_id': ObjectId('67e229b6e641b0de7ee95b26'), 'Name': 'Sandra', 'Age': 21, 'Place': 'Alappuzha'}\n",
      "{'_id': ObjectId('67e229b6e641b0de7ee95b27'), 'Name': 'Devi', 'Age': 23, 'Place': 'Malappuram'}\n",
      "{'_id': ObjectId('67e229b6e641b0de7ee95b28'), 'Name': 'Nazrin', 'Age': 21, 'Place': 'Alappuzha'}\n",
      "{'_id': ObjectId('67e232f3e641b0de7ee95b2a'), 'Name': 'Sandra', 'Age': 21, 'Place': 'Alappuzha'}\n",
      "{'_id': ObjectId('67e232f3e641b0de7ee95b2b'), 'Name': 'Devi', 'Age': 23, 'Place': 'Malappuram'}\n",
      "{'_id': ObjectId('67e232f3e641b0de7ee95b2c'), 'Name': 'Nazrin', 'Age': 21, 'Place': 'Alappuzha'}\n"
     ]
    }
   ],
   "source": [
    "var = col.find()\n",
    "for i in var:\n",
    "    print(i)"
   ]
  },
  {
   "cell_type": "code",
   "execution_count": 45,
   "metadata": {},
   "outputs": [
    {
     "data": {
      "text/plain": [
       "UpdateResult({'n': 1, 'nModified': 1, 'ok': 1.0, 'updatedExisting': True}, acknowledged=True)"
      ]
     },
     "execution_count": 45,
     "metadata": {},
     "output_type": "execute_result"
    }
   ],
   "source": [
    "cond = {\"Age\":21}\n",
    "newvalue={\"$set\":{\"Place\":\"Kollam\"}}\n",
    "col.update_one(cond,newvalue)\n"
   ]
  },
  {
   "cell_type": "code",
   "execution_count": 46,
   "metadata": {},
   "outputs": [
    {
     "data": {
      "text/plain": [
       "DeleteResult({'n': 2, 'ok': 1.0}, acknowledged=True)"
      ]
     },
     "execution_count": 46,
     "metadata": {},
     "output_type": "execute_result"
    }
   ],
   "source": [
    "col.delete_many({\"Age\":23})\n"
   ]
  },
  {
   "cell_type": "code",
   "execution_count": 47,
   "metadata": {},
   "outputs": [
    {
     "name": "stdout",
     "output_type": "stream",
     "text": [
      "{'_id': ObjectId('67e229b6e641b0de7ee95b26'), 'Name': 'Sandra', 'Age': 21, 'Place': 'Kollam'}\n",
      "{'_id': ObjectId('67e229b6e641b0de7ee95b28'), 'Name': 'Nazrin', 'Age': 21, 'Place': 'Alappuzha'}\n",
      "{'_id': ObjectId('67e232f3e641b0de7ee95b2a'), 'Name': 'Sandra', 'Age': 21, 'Place': 'Alappuzha'}\n",
      "{'_id': ObjectId('67e232f3e641b0de7ee95b2c'), 'Name': 'Nazrin', 'Age': 21, 'Place': 'Alappuzha'}\n"
     ]
    }
   ],
   "source": [
    "var = col.find()\n",
    "for i in var:\n",
    "    print(i)\n"
   ]
  },
  {
   "cell_type": "code",
   "execution_count": 49,
   "metadata": {},
   "outputs": [
    {
     "name": "stdout",
     "output_type": "stream",
     "text": [
      "{'_id': ObjectId('67e232f3e641b0de7ee95b2a'), 'Name': 'Sandra', 'Age': 21, 'Place': 'Alappuzha'}\n",
      "{'_id': ObjectId('67e232f3e641b0de7ee95b2c'), 'Name': 'Nazrin', 'Age': 21, 'Place': 'Alappuzha'}\n"
     ]
    }
   ],
   "source": [
    "col.delete_one({\"Age\":21})\n",
    "var = col.find()\n",
    "for i in var:\n",
    "    print(i)"
   ]
  },
  {
   "cell_type": "code",
   "execution_count": 52,
   "metadata": {},
   "outputs": [
    {
     "data": {
      "text/plain": [
       "InsertOneResult(ObjectId('67e233fce641b0de7ee95b2d'), acknowledged=True)"
      ]
     },
     "execution_count": 52,
     "metadata": {},
     "output_type": "execute_result"
    }
   ],
   "source": [
    "value = {\"Name\":\"Devi\", \"Age\":23, \"Place\": \"Malappuram\" }\n",
    "col.insert_one(value)"
   ]
  },
  {
   "cell_type": "code",
   "execution_count": 55,
   "metadata": {},
   "outputs": [
    {
     "name": "stdout",
     "output_type": "stream",
     "text": [
      "{'Name': 'Sandra', 'Age': 21, 'Place': 'Alappuzha'}\n",
      "{'Name': 'Nazrin', 'Age': 21, 'Place': 'Alappuzha'}\n",
      "{'Name': 'Devi', 'Age': 23, 'Place': 'Malappuram'}\n"
     ]
    }
   ],
   "source": [
    "val = col.find({\"Age\":{\"$gt\":20}},{\"_id\":0})\n",
    "for i in val:\n",
    "    print(i)"
   ]
  },
  {
   "cell_type": "code",
   "execution_count": null,
   "metadata": {},
   "outputs": [
    {
     "name": "stdout",
     "output_type": "stream",
     "text": [
      "{'Name': 'Sandra', 'Age': 21, 'Place': 'Alappuzha'}\n"
     ]
    }
   ],
   "source": [
    "#name starting with S\n",
    "val = col.find({\"Name\":{\"$regex\":\"^S\"}},{\"_id\":0})\n",
    "for i in val:\n",
    "    print(i)                "
   ]
  },
  {
   "cell_type": "code",
   "execution_count": 61,
   "metadata": {},
   "outputs": [
    {
     "name": "stdout",
     "output_type": "stream",
     "text": [
      "{'Name': 'Devi', 'Age': 23, 'Place': 'Malappuram'}\n"
     ]
    }
   ],
   "source": [
    "#name ends with i\n",
    "val = col.find({\"Name\":{\"$regex\":\"i$\"}},{\"_id\":0})\n",
    "for i in val:\n",
    "    print(i)    "
   ]
  },
  {
   "cell_type": "code",
   "execution_count": 65,
   "metadata": {},
   "outputs": [
    {
     "name": "stdout",
     "output_type": "stream",
     "text": [
      "{'Name': 'Devi', 'Age': 23, 'Place': 'Malappuram'}\n"
     ]
    }
   ],
   "source": [
    "val = col.find({\"Name\":{\"$regex\":\"^D.*i$\"}},{\"_id\":0})\n",
    "for i in val:\n",
    "    print(i)"
   ]
  },
  {
   "cell_type": "code",
   "execution_count": 67,
   "metadata": {},
   "outputs": [
    {
     "name": "stdout",
     "output_type": "stream",
     "text": [
      "{'Name': 'Sandra', 'Age': 21, 'Place': 'Alappuzha'}\n",
      "{'Name': 'Nazrin', 'Age': 21, 'Place': 'Alappuzha'}\n",
      "{'Name': 'Devi', 'Age': 23, 'Place': 'Malappuram'}\n"
     ]
    }
   ],
   "source": [
    "val = col.find({\"$or\":[{\"Age\":21},{\"Age\":23}]},{\"_id\":0})\n",
    "for i in val:\n",
    "    print(i)"
   ]
  },
  {
   "cell_type": "code",
   "execution_count": 69,
   "metadata": {},
   "outputs": [
    {
     "name": "stdout",
     "output_type": "stream",
     "text": [
      "{'_id': ObjectId('67e232f3e641b0de7ee95b2a'), 'Name': 'Sandra', 'Age': 21, 'Place': 'Alappuzha'}\n",
      "{'_id': ObjectId('67e232f3e641b0de7ee95b2c'), 'Name': 'Nazrin', 'Age': 21, 'Place': 'Alappuzha'}\n",
      "{'_id': ObjectId('67e233fce641b0de7ee95b2d'), 'Name': 'Devi', 'Age': 23, 'Place': 'Malappuram'}\n",
      "{'_id': ObjectId('67e23a18e641b0de7ee95b2e'), 'Name': 'tintu', 'Age': 25, 'Place': 'Kottayam'}\n",
      "{'_id': ObjectId('67e23a4fe641b0de7ee95b2f'), 'Name': 'tintu', 'Age': 25, 'Place': 'Kottayam'}\n"
     ]
    }
   ],
   "source": [
    "col.insert_one({\"Name\":\"tintu\",\"Age\":25,\"Place\":\"Kottayam\"})\n",
    "val=col.find()\n",
    "for i in val:\n",
    "    print(i)"
   ]
  },
  {
   "cell_type": "code",
   "execution_count": 72,
   "metadata": {},
   "outputs": [
    {
     "name": "stdout",
     "output_type": "stream",
     "text": [
      "{'_id': ObjectId('67e232f3e641b0de7ee95b2a'), 'Name': 'Sandra', 'Age': 21, 'Place': 'Alappuzha'}\n",
      "{'_id': ObjectId('67e232f3e641b0de7ee95b2c'), 'Name': 'Nazrin', 'Age': 21, 'Place': 'Alappuzha'}\n",
      "{'_id': ObjectId('67e233fce641b0de7ee95b2d'), 'Name': 'Devi', 'Age': 23, 'Place': 'Malappuram'}\n",
      "{'_id': ObjectId('67e23a4fe641b0de7ee95b2f'), 'Name': 'tintu', 'Age': 25, 'Place': 'Kottayam'}\n"
     ]
    }
   ],
   "source": [
    "col.delete_one({\"Name\":'tintu'})\n",
    "val=col.find()\n",
    "for i in val:\n",
    "    print(i)"
   ]
  },
  {
   "cell_type": "code",
   "execution_count": 73,
   "metadata": {},
   "outputs": [
    {
     "name": "stdout",
     "output_type": "stream",
     "text": [
      "{'Name': 'Sandra', 'Age': 21, 'Place': 'Alappuzha'}\n",
      "{'Name': 'Nazrin', 'Age': 21, 'Place': 'Alappuzha'}\n",
      "{'Name': 'tintu', 'Age': 25, 'Place': 'Kottayam'}\n"
     ]
    }
   ],
   "source": [
    "val = col.find({\"$or\":[{\"Age\":21},{\"Age\":25}]},{\"_id\":0})\n",
    "for i in val:\n",
    "    print(i)"
   ]
  },
  {
   "cell_type": "code",
   "execution_count": 75,
   "metadata": {},
   "outputs": [
    {
     "name": "stdout",
     "output_type": "stream",
     "text": [
      "{'_id': ObjectId('67e233fce641b0de7ee95b2d'), 'Name': 'Devi', 'Age': 23, 'Place': 'Malappuram'}\n"
     ]
    }
   ],
   "source": [
    "val = col.find({\"$and\":[{\"Age\":{\"$gt\":21}},{\"Age\":{\"$lt\":25}}]})\n",
    "for i in val:\n",
    "    print(i)"
   ]
  },
  {
   "cell_type": "code",
   "execution_count": null,
   "metadata": {},
   "outputs": [],
   "source": []
  }
 ],
 "metadata": {
  "kernelspec": {
   "display_name": "Python 3",
   "language": "python",
   "name": "python3"
  },
  "language_info": {
   "codemirror_mode": {
    "name": "ipython",
    "version": 3
   },
   "file_extension": ".py",
   "mimetype": "text/x-python",
   "name": "python",
   "nbconvert_exporter": "python",
   "pygments_lexer": "ipython3",
   "version": "3.12.7"
  }
 },
 "nbformat": 4,
 "nbformat_minor": 2
}
