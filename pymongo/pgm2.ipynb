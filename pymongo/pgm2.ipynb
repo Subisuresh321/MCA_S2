{
 "cells": [
  {
   "cell_type": "code",
   "execution_count": 9,
   "metadata": {},
   "outputs": [
    {
     "name": "stdout",
     "output_type": "stream",
     "text": [
      "{'Name': 'Subi'}\n",
      "{'Name': 'Subi'}\n",
      "{'Name': 'SOORYA'}\n",
      "{'Name': 'Subi'}\n"
     ]
    }
   ],
   "source": [
    "import pymongo\n",
    "\n",
    "conn = pymongo.MongoClient(\"mongodb://localhost:27017/\")\n",
    "\n",
    "db=conn[\"mydatabase\"]\n",
    "col=db[\"student\"]\n",
    "\n",
    "value=[\n",
    "    {\"Name\":\"Subi\",\"Age\":21,\"Married\":True},\n",
    "    {\"Name\":\"SOORYA\",\"Age\":30,\"Married\":True,\"_id\":1},\n",
    "    {\"Name\":\"Subi\",\"course\":\"MCA\"}\n",
    "        ]\n",
    "# col.insert_many(value)\n",
    "\n",
    "var=col.find({},{\"Name\":1,\"_id\":0})\n",
    "for i in var: \n",
    "    print(i)\n"
   ]
  },
  {
   "cell_type": "code",
   "execution_count": 10,
   "metadata": {},
   "outputs": [
    {
     "data": {
      "text/plain": [
       "<pymongo.synchronous.cursor.Cursor at 0x1e8e7b4d460>"
      ]
     },
     "execution_count": 10,
     "metadata": {},
     "output_type": "execute_result"
    }
   ],
   "source": [
    "col.find()"
   ]
  },
  {
   "cell_type": "code",
   "execution_count": 11,
   "metadata": {},
   "outputs": [
    {
     "name": "stdout",
     "output_type": "stream",
     "text": [
      "{'_id': ObjectId('67d92dd7fae94ae49eb56ebf'), 'Name': 'Subi'}\n",
      "{'_id': ObjectId('67d92fc747e54ea226039245'), 'Name': 'Subi'}\n",
      "{'_id': 1, 'Name': 'SOORYA'}\n",
      "{'_id': ObjectId('67d92fc747e54ea226039246'), 'Name': 'Subi'}\n"
     ]
    }
   ],
   "source": [
    "var=col.find({},{\"Name\":1})\n",
    "for i in var:\n",
    "    print(i)"
   ]
  },
  {
   "cell_type": "code",
   "execution_count": 12,
   "metadata": {},
   "outputs": [
    {
     "name": "stdout",
     "output_type": "stream",
     "text": [
      "{'_id': 1, 'Name': 'SOORYA', 'Married': True}\n"
     ]
    }
   ],
   "source": [
    "var=col.find({\"Name\":\"SOORYA\"},{\"Name\":1,\"Married\":1})\n",
    "for i in var:\n",
    "    print(i)"
   ]
  },
  {
   "cell_type": "code",
   "execution_count": 13,
   "metadata": {},
   "outputs": [
    {
     "name": "stdout",
     "output_type": "stream",
     "text": [
      "{'_id': ObjectId('67d92dd7fae94ae49eb56ebf'), 'Name': 'Subi', 'Age': 21, 'Married': True}\n",
      "{'_id': ObjectId('67d92fc747e54ea226039245'), 'Name': 'Subi', 'Age': 21, 'Married': True}\n"
     ]
    }
   ],
   "source": [
    "var = col.find({\"Name\":\"Subi\",\"Age\":21},{})\n",
    "for i in var:\n",
    "    print(i)"
   ]
  },
  {
   "cell_type": "code",
   "execution_count": 8,
   "metadata": {},
   "outputs": [
    {
     "name": "stdout",
     "output_type": "stream",
     "text": [
      "{'Name': 'Subi', 'Married': True}\n",
      "{'Name': 'Subi', 'Married': True}\n"
     ]
    }
   ],
   "source": [
    "var = col.find({\"Name\":\"Subi\",\"Age\":21},{\"Name\":1,\"Married\":1,\"_id\":0})\n",
    "for i in var:\n",
    "    print(i)"
   ]
  },
  {
   "cell_type": "code",
   "execution_count": 14,
   "metadata": {},
   "outputs": [
    {
     "name": "stdout",
     "output_type": "stream",
     "text": [
      "{'Name': 'Subi', 'Married': True}\n"
     ]
    }
   ],
   "source": [
    "var = col.find({\"Name\":\"Subi\",\"Age\":21},{\"Name\":1,\"Married\":1,\"_id\":0}).limit(1)\n",
    "for i in var:\n",
    "    print(i)"
   ]
  },
  {
   "cell_type": "code",
   "execution_count": 18,
   "metadata": {},
   "outputs": [
    {
     "name": "stdout",
     "output_type": "stream",
     "text": [
      "{'Name': 'SOORYA', 'Age': 30}\n",
      "{'Name': 'Subi', 'Age': 21}\n",
      "{'Name': 'Subi', 'Age': 21}\n",
      "{'Name': 'Subi'}\n"
     ]
    }
   ],
   "source": [
    "var = col.find({},{\"Name\":1,\"Age\":1,\"_id\":0}).sort({\"Age\":-1})\n",
    "for i in var:\n",
    "    print(i)"
   ]
  }
 ],
 "metadata": {
  "kernelspec": {
   "display_name": "Python 3",
   "language": "python",
   "name": "python3"
  },
  "language_info": {
   "codemirror_mode": {
    "name": "ipython",
    "version": 3
   },
   "file_extension": ".py",
   "mimetype": "text/x-python",
   "name": "python",
   "nbconvert_exporter": "python",
   "pygments_lexer": "ipython3",
   "version": "3.12.7"
  }
 },
 "nbformat": 4,
 "nbformat_minor": 2
}
