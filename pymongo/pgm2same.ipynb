{
 "cells": [
  {
   "cell_type": "code",
   "execution_count": 6,
   "id": "ee54997e",
   "metadata": {},
   "outputs": [],
   "source": [
    "import pymongo\n",
    "\n",
    "conn=pymongo.MongoClient(\"mongodb://localhost:27017/\")\n",
    "db=conn[\"mydb\"]\n",
    "col=db[\"student\"]"
   ]
  },
  {
   "cell_type": "code",
   "execution_count": 3,
   "id": "2872da11",
   "metadata": {},
   "outputs": [
    {
     "data": {
      "text/plain": [
       "InsertManyResult([ObjectId('682de8add43aa21cef265e2e'), ObjectId('682de8add43aa21cef265e2f'), ObjectId('682de8add43aa21cef265e30'), ObjectId('682de8add43aa21cef265e31')], acknowledged=True)"
      ]
     },
     "execution_count": 3,
     "metadata": {},
     "output_type": "execute_result"
    }
   ],
   "source": [
    "val= [\n",
    "    {\"Name\":\"Subi Suresh\",\"Age\":22,\"course\":\"MCA\"},\n",
    "    {\"Name\":\"Sam\",\"Age\":21,\"course\":\"BCA\"},\n",
    "    {\"Name\":\"DK\",\"Age\":20},\n",
    "    {\"Name\":\"Misy\",\"Age\":22,\"course\":\"MCA\"},\n",
    "      ]\n",
    "col.insert_many(val)"
   ]
  },
  {
   "cell_type": "code",
   "execution_count": 7,
   "id": "b57b6e8e",
   "metadata": {},
   "outputs": [
    {
     "name": "stdout",
     "output_type": "stream",
     "text": [
      "{'_id': ObjectId('682de8add43aa21cef265e2e'), 'Name': 'Subi Suresh', 'Age': 22, 'course': 'MCA'}\n",
      "{'_id': ObjectId('682de8add43aa21cef265e2f'), 'Name': 'Sam', 'Age': 21, 'course': 'BCA'}\n",
      "{'_id': ObjectId('682de8add43aa21cef265e30'), 'Name': 'DK', 'Age': 20}\n",
      "{'_id': ObjectId('682de8add43aa21cef265e31'), 'Name': 'Misy', 'Age': 22, 'course': 'MCA'}\n"
     ]
    }
   ],
   "source": [
    "val = col.find()\n",
    "for i in val:\n",
    "    print(i)"
   ]
  },
  {
   "cell_type": "code",
   "execution_count": 5,
   "id": "181726f5",
   "metadata": {},
   "outputs": [
    {
     "name": "stdout",
     "output_type": "stream",
     "text": [
      "{'Name': 'Subi Suresh', 'Age': 22}\n",
      "{'Name': 'Sam', 'Age': 21}\n",
      "{'Name': 'DK', 'Age': 20}\n",
      "{'Name': 'Misy', 'Age': 22}\n"
     ]
    }
   ],
   "source": [
    "val = col.find({},{\"_id\":0,\"course\":0})\n",
    "for i in val:\n",
    "    print(i)"
   ]
  },
  {
   "cell_type": "code",
   "execution_count": 8,
   "id": "396990a0",
   "metadata": {},
   "outputs": [
    {
     "name": "stdout",
     "output_type": "stream",
     "text": [
      "{'Name': 'Subi Suresh'}\n"
     ]
    }
   ],
   "source": [
    "val = col.find({\"Age\":22},{\"_id\":0,\"Name\":1}).limit(1)\n",
    "for i in val:\n",
    "    print(i)"
   ]
  },
  {
   "cell_type": "code",
   "execution_count": 12,
   "id": "7cfafa16",
   "metadata": {},
   "outputs": [
    {
     "name": "stdout",
     "output_type": "stream",
     "text": [
      "{'Name': 'Subi Suresh', 'Age': 22, 'course': 'MCA'}\n",
      "{'Name': 'Misy', 'Age': 22, 'course': 'MCA'}\n",
      "{'Name': 'Sam', 'Age': 21, 'course': 'BCA'}\n",
      "{'Name': 'DK', 'Age': 20}\n"
     ]
    }
   ],
   "source": [
    "val = col.find({},{\"_id\":0}).sort({\"Age\":-1})\n",
    "for i in val:\n",
    "    print(i)\n"
   ]
  },
  {
   "cell_type": "code",
   "execution_count": 16,
   "id": "a634ee88",
   "metadata": {},
   "outputs": [
    {
     "name": "stdout",
     "output_type": "stream",
     "text": [
      "{'_id': ObjectId('682b7207eefc488dacd3c8c9'), 'Name': 'Misy', 'Age': 22, 'course': 'MCA'}\n",
      "{'_id': ObjectId('682b7207eefc488dacd3c8c7'), 'Name': 'Sam', 'Age': 21, 'course': 'BCA'}\n",
      "{'_id': ObjectId('682b7207eefc488dacd3c8c6'), 'Name': 'Subi Suresh', 'Age': 22, 'course': 'MCA'}\n"
     ]
    }
   ],
   "source": [
    "val = col.find({\"Age\":{\"$gte\":21}}).sort({\"Name\":1})\n",
    "for i in val:\n",
    "    print(i)"
   ]
  },
  {
   "cell_type": "code",
   "execution_count": 17,
   "id": "56436685",
   "metadata": {},
   "outputs": [
    {
     "name": "stdout",
     "output_type": "stream",
     "text": [
      "{'Name': 'Subi Suresh', 'Age': 22, 'course': 'MCA'}\n",
      "{'Name': 'Sam', 'Age': 21, 'course': 'BCA'}\n",
      "{'Name': 'Misy', 'Age': 22, 'course': 'MCA'}\n"
     ]
    }
   ],
   "source": [
    "val = col.find({\"$or\":[{\"Age\":22},{\"course\":\"BCA\"}]},{\"_id\":0})\n",
    "for i in val:\n",
    "    print(i)\n",
    "    "
   ]
  },
  {
   "cell_type": "code",
   "execution_count": 18,
   "id": "768ca239",
   "metadata": {},
   "outputs": [
    {
     "data": {
      "text/plain": [
       "InsertOneResult(ObjectId('682b7d84eefc488dacd3c8ca'), acknowledged=True)"
      ]
     },
     "execution_count": 18,
     "metadata": {},
     "output_type": "execute_result"
    }
   ],
   "source": [
    "col.insert_one({\"Name\":\"chikku\",\"Age\":21,\"course\":\"BBA\"})"
   ]
  },
  {
   "cell_type": "code",
   "execution_count": 22,
   "id": "3749a65e",
   "metadata": {},
   "outputs": [
    {
     "name": "stdout",
     "output_type": "stream",
     "text": [
      "{'Name': 'Sam', 'Age': 21, 'course': 'BCA'}\n",
      "{'Name': 'chikku', 'Age': 21, 'course': 'BBA'}\n"
     ]
    }
   ],
   "source": [
    "val=col.find({\"$and\":[{\"Age\":{\"$gt\":20}},{\"Age\":{\"$lt\":22}}]},{\"_id\":0})\n",
    "for i in val:\n",
    "    print(i)"
   ]
  },
  {
   "cell_type": "code",
   "execution_count": 26,
   "id": "8704bbd0",
   "metadata": {},
   "outputs": [
    {
     "name": "stdout",
     "output_type": "stream",
     "text": [
      "{'_id': ObjectId('682b7207eefc488dacd3c8c6'), 'Name': 'Subi Suresh', 'Age': 22, 'course': 'MCA'}\n",
      "{'_id': ObjectId('682b7207eefc488dacd3c8c7'), 'Name': 'Sam', 'Age': 21, 'course': 'BCA'}\n",
      "{'_id': ObjectId('682b7207eefc488dacd3c8c8'), 'Name': 'DK', 'Age': 20}\n",
      "{'_id': ObjectId('682b7207eefc488dacd3c8c9'), 'Name': 'Misy', 'Age': 22, 'course': 'MCA'}\n",
      "{'_id': ObjectId('682b7d84eefc488dacd3c8ca'), 'Name': 'chikku', 'Age': 21, 'course': 'BBA'}\n"
     ]
    }
   ],
   "source": [
    "val=col.find()\n",
    "for i in val:\n",
    "    print(i)"
   ]
  },
  {
   "cell_type": "code",
   "execution_count": 28,
   "id": "5fdd4359",
   "metadata": {},
   "outputs": [
    {
     "data": {
      "text/plain": [
       "UpdateResult({'n': 1, 'nModified': 1, 'ok': 1.0, 'updatedExisting': True}, acknowledged=True)"
      ]
     },
     "execution_count": 28,
     "metadata": {},
     "output_type": "execute_result"
    }
   ],
   "source": [
    "cond={\"Age\":20}\n",
    "new_value={\"$set\":{\"course\":\"Mcom\"}}\n",
    "col.update_one(cond,new_value)"
   ]
  },
  {
   "cell_type": "code",
   "execution_count": 33,
   "id": "f6f7e0cc",
   "metadata": {},
   "outputs": [
    {
     "name": "stdout",
     "output_type": "stream",
     "text": [
      "{'_id': ObjectId('682b7207eefc488dacd3c8c6'), 'Name': 'Subi Suresh', 'Age': 22, 'course': 'MCA'}\n",
      "{'_id': ObjectId('682b7207eefc488dacd3c8c8'), 'Name': 'DK', 'Age': 20, 'course': 'Mcom'}\n",
      "{'_id': ObjectId('682b7207eefc488dacd3c8c9'), 'Name': 'Misy', 'Age': 22, 'course': 'MCA'}\n",
      "{'_id': ObjectId('682b7d84eefc488dacd3c8ca'), 'Name': 'chikku', 'Age': 21, 'course': 'BBA'}\n"
     ]
    }
   ],
   "source": [
    "val=col.find()\n",
    "for i in val:\n",
    "    print(i)"
   ]
  },
  {
   "cell_type": "code",
   "execution_count": null,
   "id": "e116476b",
   "metadata": {},
   "outputs": [],
   "source": []
  },
  {
   "cell_type": "code",
   "execution_count": 30,
   "id": "62bc36a5",
   "metadata": {},
   "outputs": [
    {
     "data": {
      "text/plain": [
       "UpdateResult({'n': 1, 'nModified': 1, 'ok': 1.0, 'updatedExisting': True}, acknowledged=True)"
      ]
     },
     "execution_count": 30,
     "metadata": {},
     "output_type": "execute_result"
    }
   ],
   "source": [
    "cond={\"Name\":\"Sam\"}\n",
    "nv={\"$set\":{\"course\":\"MCA\"}}\n",
    "col.update_many(cond,nv)"
   ]
  },
  {
   "cell_type": "code",
   "execution_count": 32,
   "id": "2d32fab3",
   "metadata": {},
   "outputs": [
    {
     "data": {
      "text/plain": [
       "DeleteResult({'n': 1, 'ok': 1.0}, acknowledged=True)"
      ]
     },
     "execution_count": 32,
     "metadata": {},
     "output_type": "execute_result"
    }
   ],
   "source": [
    "col.delete_one({\"Age\":21})"
   ]
  },
  {
   "cell_type": "code",
   "execution_count": 35,
   "id": "7baa2051",
   "metadata": {},
   "outputs": [
    {
     "name": "stdout",
     "output_type": "stream",
     "text": [
      "{'Name': 'DK', 'Age': 20, 'course': 'Mcom'}\n",
      "{'Name': 'chikku', 'Age': 21, 'course': 'BBA'}\n"
     ]
    }
   ],
   "source": [
    "val=col.find({\"Age\":{\"$gt\":20},\"Age\":{\"$lt\":22}},{\"_id\":0})\n",
    "for i in val:\n",
    "    print(i)"
   ]
  },
  {
   "cell_type": "code",
   "execution_count": 36,
   "id": "67c6c91b",
   "metadata": {},
   "outputs": [
    {
     "data": {
      "text/plain": [
       "InsertOneResult(ObjectId('682b83f7eefc488dacd3c8cb'), acknowledged=True)"
      ]
     },
     "execution_count": 36,
     "metadata": {},
     "output_type": "execute_result"
    }
   ],
   "source": [
    "col.insert_one({\"Name\":{\"fname\":\"Jobin\",\"lname\":\"bose\"},\"Age\":25,\"course\":\"BCA\"})"
   ]
  },
  {
   "cell_type": "code",
   "execution_count": 45,
   "id": "0ef0b7ec",
   "metadata": {},
   "outputs": [
    {
     "name": "stdout",
     "output_type": "stream",
     "text": [
      "Name \tSubi Suresh\n",
      "Name \tDK\n",
      "Name \tMisy\n",
      "Name \tchikku\n"
     ]
    }
   ],
   "source": [
    "val=col.find()\n",
    "for i in val:\n",
    "    print(\"Name \\t\"+i['Name'])"
   ]
  },
  {
   "cell_type": "code",
   "execution_count": 55,
   "id": "941c8eb1",
   "metadata": {},
   "outputs": [
    {
     "name": "stdout",
     "output_type": "stream",
     "text": [
      "{'_id': ObjectId('682b7207eefc488dacd3c8c6'), 'Name': 'Subi Suresh', 'Age': 22, 'course': 'MCA'}\n"
     ]
    }
   ],
   "source": [
    "val=col.find({\"Name\":{\"$regex\":\"^S.*h$\"}})\n",
    "for i in val:\n",
    "    print(i)"
   ]
  },
  {
   "cell_type": "code",
   "execution_count": 57,
   "id": "b55f49ba",
   "metadata": {},
   "outputs": [
    {
     "name": "stdout",
     "output_type": "stream",
     "text": [
      "{'_id': ObjectId('682b7207eefc488dacd3c8c6'), 'Name': 'Subi Suresh', 'Age': 22, 'course': 'MCA'}\n",
      "{'_id': ObjectId('682b7207eefc488dacd3c8c9'), 'Name': 'Misy', 'Age': 22, 'course': 'MCA'}\n"
     ]
    }
   ],
   "source": [
    "val = col.find({\"$or\":[{\"course\":\"MCA\"},{\"course\":\"BCA\"}]})\n",
    "for i in val:\n",
    "    print(i)"
   ]
  },
  {
   "cell_type": "code",
   "execution_count": 60,
   "id": "e6bcdc0c",
   "metadata": {},
   "outputs": [
    {
     "name": "stdout",
     "output_type": "stream",
     "text": [
      "{'_id': ObjectId('682b7207eefc488dacd3c8c8'), 'Name': 'DK', 'Age': 20, 'course': 'Mcom'}\n"
     ]
    }
   ],
   "source": [
    "val= col.find({\"course\":{\"$nin\":[\"BCA\",\"MCA\"]},\"Name\":\"DK\"})\n",
    "for i in val:\n",
    "    print(i)"
   ]
  },
  {
   "cell_type": "code",
   "execution_count": null,
   "id": "d75cb07a",
   "metadata": {},
   "outputs": [],
   "source": []
  },
  {
   "cell_type": "code",
   "execution_count": null,
   "id": "9ec3b256",
   "metadata": {},
   "outputs": [],
   "source": []
  },
  {
   "cell_type": "code",
   "execution_count": null,
   "id": "1e78bbbb",
   "metadata": {},
   "outputs": [],
   "source": []
  },
  {
   "cell_type": "code",
   "execution_count": null,
   "id": "88b41a58",
   "metadata": {},
   "outputs": [],
   "source": []
  },
  {
   "cell_type": "code",
   "execution_count": null,
   "id": "cd2650c1",
   "metadata": {},
   "outputs": [],
   "source": []
  },
  {
   "cell_type": "code",
   "execution_count": null,
   "id": "d5a321c7",
   "metadata": {},
   "outputs": [],
   "source": []
  },
  {
   "cell_type": "code",
   "execution_count": null,
   "id": "87afb9c3",
   "metadata": {},
   "outputs": [],
   "source": []
  },
  {
   "cell_type": "code",
   "execution_count": null,
   "id": "19b07b55",
   "metadata": {},
   "outputs": [],
   "source": []
  },
  {
   "cell_type": "code",
   "execution_count": null,
   "id": "cb7c66b2",
   "metadata": {},
   "outputs": [],
   "source": []
  },
  {
   "cell_type": "code",
   "execution_count": null,
   "id": "3d29f20b",
   "metadata": {},
   "outputs": [],
   "source": []
  },
  {
   "cell_type": "code",
   "execution_count": null,
   "id": "3a7ead94",
   "metadata": {},
   "outputs": [],
   "source": []
  },
  {
   "cell_type": "code",
   "execution_count": null,
   "id": "cb53d0e2",
   "metadata": {},
   "outputs": [],
   "source": []
  },
  {
   "cell_type": "code",
   "execution_count": null,
   "id": "234bf20e",
   "metadata": {},
   "outputs": [],
   "source": []
  },
  {
   "cell_type": "code",
   "execution_count": null,
   "id": "71d17206",
   "metadata": {},
   "outputs": [],
   "source": []
  },
  {
   "cell_type": "code",
   "execution_count": 44,
   "id": "be6f7830",
   "metadata": {},
   "outputs": [
    {
     "data": {
      "text/plain": [
       "DeleteResult({'n': 1, 'ok': 1.0}, acknowledged=True)"
      ]
     },
     "execution_count": 44,
     "metadata": {},
     "output_type": "execute_result"
    }
   ],
   "source": [
    "col.delete_one({\"Name.fname\":\"Jobin\"})"
   ]
  },
  {
   "cell_type": "code",
   "execution_count": null,
   "id": "633c7f9c",
   "metadata": {},
   "outputs": [],
   "source": []
  },
  {
   "cell_type": "code",
   "execution_count": 43,
   "id": "72b7ed70",
   "metadata": {},
   "outputs": [
    {
     "name": "stdout",
     "output_type": "stream",
     "text": [
      "{'_id': ObjectId('682b7207eefc488dacd3c8c6'), 'Name': 'Subi Suresh', 'Age': 22, 'course': 'MCA'}\n",
      "{'_id': ObjectId('682b7207eefc488dacd3c8c8'), 'Name': 'DK', 'Age': 20, 'course': 'Mcom'}\n",
      "{'_id': ObjectId('682b7207eefc488dacd3c8c9'), 'Name': 'Misy', 'Age': 22, 'course': 'MCA'}\n",
      "{'_id': ObjectId('682b7d84eefc488dacd3c8ca'), 'Name': 'chikku', 'Age': 21, 'course': 'BBA'}\n",
      "{'_id': ObjectId('682b83f7eefc488dacd3c8cb'), 'Name': {'fname': 'Jobin', 'lname': 'bose'}, 'Age': 25, 'course': 'BCA'}\n"
     ]
    }
   ],
   "source": [
    "val=col.find()\n",
    "for  i in val:\n",
    "    print(i)"
   ]
  },
  {
   "cell_type": "code",
   "execution_count": null,
   "id": "3cff2c05",
   "metadata": {},
   "outputs": [],
   "source": []
  },
  {
   "cell_type": "code",
   "execution_count": null,
   "id": "3be9345b",
   "metadata": {},
   "outputs": [],
   "source": []
  },
  {
   "cell_type": "code",
   "execution_count": null,
   "id": "6f21e704",
   "metadata": {},
   "outputs": [],
   "source": []
  },
  {
   "cell_type": "code",
   "execution_count": null,
   "id": "be445167",
   "metadata": {},
   "outputs": [],
   "source": []
  },
  {
   "cell_type": "code",
   "execution_count": null,
   "id": "d74d963d",
   "metadata": {},
   "outputs": [],
   "source": []
  },
  {
   "cell_type": "code",
   "execution_count": null,
   "id": "220f7ede",
   "metadata": {},
   "outputs": [],
   "source": []
  },
  {
   "cell_type": "code",
   "execution_count": null,
   "id": "dba4c591",
   "metadata": {},
   "outputs": [],
   "source": []
  },
  {
   "cell_type": "code",
   "execution_count": null,
   "id": "2b7b2a18",
   "metadata": {},
   "outputs": [],
   "source": []
  },
  {
   "cell_type": "code",
   "execution_count": null,
   "id": "9eaaa760",
   "metadata": {},
   "outputs": [],
   "source": []
  },
  {
   "cell_type": "code",
   "execution_count": null,
   "id": "a27fdc02",
   "metadata": {},
   "outputs": [],
   "source": []
  },
  {
   "cell_type": "code",
   "execution_count": null,
   "id": "8bf8edaa",
   "metadata": {},
   "outputs": [],
   "source": []
  },
  {
   "cell_type": "code",
   "execution_count": null,
   "id": "1c8663b5",
   "metadata": {},
   "outputs": [],
   "source": []
  },
  {
   "cell_type": "code",
   "execution_count": null,
   "id": "63fdc993",
   "metadata": {},
   "outputs": [],
   "source": []
  },
  {
   "cell_type": "code",
   "execution_count": null,
   "id": "a1b2e951",
   "metadata": {},
   "outputs": [],
   "source": []
  },
  {
   "cell_type": "code",
   "execution_count": null,
   "id": "131db252",
   "metadata": {},
   "outputs": [],
   "source": []
  },
  {
   "cell_type": "code",
   "execution_count": null,
   "id": "635f106d",
   "metadata": {},
   "outputs": [],
   "source": []
  },
  {
   "cell_type": "code",
   "execution_count": null,
   "id": "8af4dd53",
   "metadata": {},
   "outputs": [],
   "source": []
  },
  {
   "cell_type": "code",
   "execution_count": null,
   "id": "fd9cc9cb",
   "metadata": {},
   "outputs": [],
   "source": []
  }
 ],
 "metadata": {
  "kernelspec": {
   "display_name": "Python 3",
   "language": "python",
   "name": "python3"
  },
  "language_info": {
   "codemirror_mode": {
    "name": "ipython",
    "version": 3
   },
   "file_extension": ".py",
   "mimetype": "text/x-python",
   "name": "python",
   "nbconvert_exporter": "python",
   "pygments_lexer": "ipython3",
   "version": "3.13.0"
  }
 },
 "nbformat": 4,
 "nbformat_minor": 5
}
